{
 "metadata": {
  "kernelspec": {
   "language": "python",
   "display_name": "Python 3",
   "name": "python3"
  },
  "language_info": {
   "name": "python",
   "version": "3.7.12",
   "mimetype": "text/x-python",
   "codemirror_mode": {
    "name": "ipython",
    "version": 3
   },
   "pygments_lexer": "ipython3",
   "nbconvert_exporter": "python",
   "file_extension": ".py"
  }
 },
 "nbformat_minor": 4,
 "nbformat": 4,
 "cells": [
  {
   "cell_type": "markdown",
   "source": [
    "\n",
    "\n",
    "<!-- ![](https://cdn.dribbble.com/users/2353146/screenshots/9073115/media/eadd1ef050b49fbdf20d42e7c504458d.png)\n",
    "Image is made by [Алена Молчанова](https://dribbble.com/shots/9073115-WRITING?utm_source=Clipboard_Shot&utm_campaign=mimipig&utm_content=WRITING&utm_medium=Social_Share&utm_source=Clipboard_Shot&utm_campaign=mimipig&utm_content=WRITING&utm_medium=Social_Share) -->\n",
    "\n",
    "# Here is a baseline notebook for [Feedback Prize - Evaluating Student Writing](https://www.kaggle.com/c/feedback-prize-2021/)\n",
    "\n",
    "\n",
    "**The notebook outline:** \n",
    "1. spacy EDA \n",
    "2. Text preprocessing and transforming data to sentences using this great notebook: [📖Feedback- Baseline🤗 Sentence Classifier [0.226]](https://www.kaggle.com/julian3833/feedback-baseline-sentence-classifier-0-226)\n",
    "3. Train model with [ULMFIT](https://arxiv.org/pdf/1708.02182v1.pdf) using fastai library for sentence classficiation\n",
    "4. Submit\n",
    "\n",
    "\n"
   ],
   "metadata": {}
  },
  {
   "cell_type": "code",
   "execution_count": null,
   "outputs": [],
   "source": [
    "!pip install kaggle\n",
    "import zipfile\n",
    "\n",
    "!kaggle competitions download -c feedback-prize-2021 -p ../input/feedback-prize-2021\n",
    "!kaggle datasets download  -d cdeotte/tf-longformer-v12 -p ../input/tf-longformer-v12\n",
    "\n",
    "with zipfile.ZipFile('../input/feedback-prize-2021/feedback-prize-2021.zip','r') as myzip:\n",
    "    myzip.extractall('../input/feedback-prize-2021')\n",
    "\n",
    "with zipfile.ZipFile('../input/tf-longformer-v12/tf-longformer-v12.zip','r') as myzip:\n",
    "    myzip.extractall('../input/tf-longformer-v12')\n"
   ],
   "metadata": {
    "collapsed": false,
    "pycharm": {
     "name": "#%%\n"
    }
   }
  },
  {
   "cell_type": "markdown",
   "source": [
    "### First we do necessary imports and load the data"
   ],
   "metadata": {}
  },
  {
   "cell_type": "code",
   "source": "from fastai.text import *\nfrom fastai.text.all import *\nimport nltk\nimport spacy\nimport pandas as pd\nimport numpy as np\nimport fastai\nimport torch\nfrom tqdm.notebook import tqdm\nfrom sklearn.metrics import classification_report\ntqdm.pandas()\nprint(f\"fastai version: {fastai.__version__}\")\nif torch.cuda.is_available():\n    print(f\"GPU which is used : {torch.cuda.get_device_name(0)}\")\n    \n\n## defining directories\nroot = Path().absolute()\ndata_dir = root / \"../input/feedback-prize-2021\"\ntrain_text_dir = data_dir / \"train\"\ntest_text_dir = data_dir / \"test\"\nout = root / \"out\"\nout.mkdir(exist_ok=True)\n# data_dir.ls()",
   "metadata": {
    "_kg_hide-input": true,
    "execution": {
     "iopub.status.busy": "2021-12-27T17:12:01.640417Z",
     "iopub.execute_input": "2021-12-27T17:12:01.640752Z",
     "iopub.status.idle": "2021-12-27T17:12:05.946470Z",
     "shell.execute_reply.started": "2021-12-27T17:12:01.640662Z",
     "shell.execute_reply": "2021-12-27T17:12:05.945696Z"
    },
    "trusted": true
   },
   "execution_count": 1,
   "outputs": [
    {
     "name": "stdout",
     "text": "fastai version: 2.5.3\nGPU which is used : Tesla P100-PCIE-16GB\n",
     "output_type": "stream"
    }
   ]
  },
  {
   "cell_type": "code",
   "source": "df = pd.read_csv(data_dir / \"train.csv\", dtype={'discourse_id': int, 'discourse_start': int, 'discourse_end': int})\nprint('\\nHere is the data sample : \\n\\n')\ndf.head(2)",
   "metadata": {
    "_kg_hide-input": true,
    "execution": {
     "iopub.status.busy": "2021-12-27T17:12:05.948022Z",
     "iopub.execute_input": "2021-12-27T17:12:05.948265Z",
     "iopub.status.idle": "2021-12-27T17:12:06.691468Z",
     "shell.execute_reply.started": "2021-12-27T17:12:05.948231Z",
     "shell.execute_reply": "2021-12-27T17:12:06.690693Z"
    },
    "trusted": true
   },
   "execution_count": 2,
   "outputs": [
    {
     "name": "stdout",
     "text": "\nHere is the data sample : \n\n\n",
     "output_type": "stream"
    },
    {
     "execution_count": 2,
     "output_type": "execute_result",
     "data": {
      "text/plain": "             id   discourse_id  discourse_start  discourse_end  \\\n0  423A1CA112E2  1622627660524                8            229   \n1  423A1CA112E2  1622627653021              230            312   \n\n                                                                                                                                                                                                                  discourse_text  \\\n0  Modern humans today are always on their phone. They are always on their phone more than 5 hours a day no stop .All they do is text back and forward and just have group Chats on social media. They even do it while driving.   \n1                                                                                                                                             They are some really bad consequences when stuff happens when it comes to a phone.   \n\n  discourse_type discourse_type_num  \\\n0           Lead             Lead 1   \n1       Position         Position 1   \n\n                                                                                                             predictionstring  \n0  1 2 3 4 5 6 7 8 9 10 11 12 13 14 15 16 17 18 19 20 21 22 23 24 25 26 27 28 29 30 31 32 33 34 35 36 37 38 39 40 41 42 43 44  \n1                                                                                45 46 47 48 49 50 51 52 53 54 55 56 57 58 59  ",
      "text/html": "<div>\n<style scoped>\n    .dataframe tbody tr th:only-of-type {\n        vertical-align: middle;\n    }\n\n    .dataframe tbody tr th {\n        vertical-align: top;\n    }\n\n    .dataframe thead th {\n        text-align: right;\n    }\n</style>\n<table border=\"1\" class=\"dataframe\">\n  <thead>\n    <tr style=\"text-align: right;\">\n      <th></th>\n      <th>id</th>\n      <th>discourse_id</th>\n      <th>discourse_start</th>\n      <th>discourse_end</th>\n      <th>discourse_text</th>\n      <th>discourse_type</th>\n      <th>discourse_type_num</th>\n      <th>predictionstring</th>\n    </tr>\n  </thead>\n  <tbody>\n    <tr>\n      <th>0</th>\n      <td>423A1CA112E2</td>\n      <td>1622627660524</td>\n      <td>8</td>\n      <td>229</td>\n      <td>Modern humans today are always on their phone. They are always on their phone more than 5 hours a day no stop .All they do is text back and forward and just have group Chats on social media. They even do it while driving.</td>\n      <td>Lead</td>\n      <td>Lead 1</td>\n      <td>1 2 3 4 5 6 7 8 9 10 11 12 13 14 15 16 17 18 19 20 21 22 23 24 25 26 27 28 29 30 31 32 33 34 35 36 37 38 39 40 41 42 43 44</td>\n    </tr>\n    <tr>\n      <th>1</th>\n      <td>423A1CA112E2</td>\n      <td>1622627653021</td>\n      <td>230</td>\n      <td>312</td>\n      <td>They are some really bad consequences when stuff happens when it comes to a phone.</td>\n      <td>Position</td>\n      <td>Position 1</td>\n      <td>45 46 47 48 49 50 51 52 53 54 55 56 57 58 59</td>\n    </tr>\n  </tbody>\n</table>\n</div>"
     },
     "metadata": {}
    }
   ]
  },
  {
   "cell_type": "markdown",
   "source": "### Visualize classes",
   "metadata": {}
  },
  {
   "cell_type": "code",
   "source": "def visualize_classes(file_name):\n    ents = []\n    for i, row in df[df['id'] == file_name].iterrows():\n        ents.append({\n                        'start': int(row['discourse_start']), \n                         'end': int(row['discourse_end']), \n                         'label': row['discourse_type']\n                    })\n    with open(f'{train_text_dir}/{file_name}.txt', 'r') as file: data = file.read()\n\n    doc2 = {\n        \"text\": data,\n        \"ents\": ents,\n        \"title\": file_name\n    }\n    colors = {'Lead': '#c1dbd5',\n            'Position': '#fcf2b6',\n            'Claim': '#bbceae',\n            'Evidence': '#c8f1bf',\n            'Counterclaim': '#d3b88a',\n            'Concluding Statement': '#ed9a8b',\n            'Rebuttal': '#ef8c9d'}\n\n    options = {\"ents\": df.discourse_type.unique().tolist(), \"colors\": colors}\n    spacy.displacy.render(doc2, style=\"ent\", options=options, manual=True, jupyter=True)\n    print('\\n')",
   "metadata": {
    "_kg_hide-input": true,
    "execution": {
     "iopub.status.busy": "2021-12-27T17:12:06.692834Z",
     "iopub.execute_input": "2021-12-27T17:12:06.693425Z",
     "iopub.status.idle": "2021-12-27T17:12:06.702342Z",
     "shell.execute_reply.started": "2021-12-27T17:12:06.693386Z",
     "shell.execute_reply": "2021-12-27T17:12:06.701254Z"
    },
    "trusted": true
   },
   "execution_count": 3,
   "outputs": []
  },
  {
   "cell_type": "markdown",
   "source": "Visualize 4 sample of data",
   "metadata": {}
  },
  {
   "cell_type": "code",
   "source": "for i in df['id'].sample(n=4, random_state=2).values.tolist():\n    visualize_classes(i)",
   "metadata": {
    "_kg_hide-input": true,
    "execution": {
     "iopub.status.busy": "2021-12-27T17:12:06.704744Z",
     "iopub.execute_input": "2021-12-27T17:12:06.705384Z",
     "iopub.status.idle": "2021-12-27T17:12:06.890549Z",
     "shell.execute_reply.started": "2021-12-27T17:12:06.705353Z",
     "shell.execute_reply": "2021-12-27T17:12:06.888493Z"
    },
    "trusted": true
   },
   "execution_count": 4,
   "outputs": [
    {
     "output_type": "display_data",
     "data": {
      "text/plain": "<IPython.core.display.HTML object>",
      "text/html": "<span class=\"tex2jax_ignore\"><h2 style=\"margin: 0\">813FEB14DE3C</h2>\n\n<div class=\"entities\" style=\"line-height: 2.5; direction: ltr\">\n<mark class=\"entity\" style=\"background: #c1dbd5; padding: 0.45em 0.6em; margin: 0 0.25em; line-height: 1; border-radius: 0.35em;\">\n    Receiving advice from others is like having someone else pick out your clothes; a weight is being lifted off you shoulders. When people ask for advice, they sometimes talk to more than one person.\n    <span style=\"font-size: 0.8em; font-weight: bold; line-height: 1; border-radius: 0.35em; vertical-align: middle; margin-left: 0.5rem\">Lead</span>\n</mark>\n \n<mark class=\"entity\" style=\"background: #fcf2b6; padding: 0.45em 0.6em; margin: 0 0.25em; line-height: 1; border-radius: 0.35em;\">\n    Seeking multiple opinions can help someone make a better choice,\n    <span style=\"font-size: 0.8em; font-weight: bold; line-height: 1; border-radius: 0.35em; vertical-align: middle; margin-left: 0.5rem\">Position</span>\n</mark>\n for \n<mark class=\"entity\" style=\"background: #bbceae; padding: 0.45em 0.6em; margin: 0 0.25em; line-height: 1; border-radius: 0.35em;\">\n    they will receive advice from others with more experience,\n    <span style=\"font-size: 0.8em; font-weight: bold; line-height: 1; border-radius: 0.35em; vertical-align: middle; margin-left: 0.5rem\">Claim</span>\n</mark>\n \n<mark class=\"entity\" style=\"background: #bbceae; padding: 0.45em 0.6em; margin: 0 0.25em; line-height: 1; border-radius: 0.35em;\">\n    it will help them grow as a individual\n    <span style=\"font-size: 0.8em; font-weight: bold; line-height: 1; border-radius: 0.35em; vertical-align: middle; margin-left: 0.5rem\">Claim</span>\n</mark>\n, and \n<mark class=\"entity\" style=\"background: #bbceae; padding: 0.45em 0.6em; margin: 0 0.25em; line-height: 1; border-radius: 0.35em;\">\n    it will be an eye opener to their situation.\n    <span style=\"font-size: 0.8em; font-weight: bold; line-height: 1; border-radius: 0.35em; vertical-align: middle; margin-left: 0.5rem\">Claim</span>\n</mark>\n</br></br>To begin with, \n<mark class=\"entity\" style=\"background: #bbceae; padding: 0.45em 0.6em; margin: 0 0.25em; line-height: 1; border-radius: 0.35em;\">\n    asking others for advice can benefit one in many ways. The person who they may be asking may be more experienced in the subject and help them out with their situation.\n    <span style=\"font-size: 0.8em; font-weight: bold; line-height: 1; border-radius: 0.35em; vertical-align: middle; margin-left: 0.5rem\">Claim</span>\n</mark>\n \n<mark class=\"entity\" style=\"background: #c8f1bf; padding: 0.45em 0.6em; margin: 0 0.25em; line-height: 1; border-radius: 0.35em;\">\n    For example, Generic_Name just began attending a new school. He has tried his best to make friends but he has failed. Generic_Name, very discouraged, decided to ask his mom for some pointers on how to make friends. When he got home from school he went right into the kitchen to ask his mom for some help. His mom simply said, &quot;Be yourself, they will come around, trust me.&quot; Generic_Name was frustrated because he was being his self but they just looked at him like he was an alien. He knew it was time to turn to his older sister, Generic_Name. Later that evening when Generic_Name came home from basketball practice he knew it time to ask her what to do. After she had gotten settled he went into her room knowing she was his only hope. Generic_Name told him that, &quot;You are the new kid, fresh meat. Give them a break and do not try as hard to want their attention. The best way to gain someones attention is to not want it.&quot; After doing exactly what his sister said to do, two of the boys from his gym class came and sat beside him at lunch. Generic_Name could have just went with his moms advice, but after talking to his sister he has now made two new friends.\n    <span style=\"font-size: 0.8em; font-weight: bold; line-height: 1; border-radius: 0.35em; vertical-align: middle; margin-left: 0.5rem\">Evidence</span>\n</mark>\n</br></br>Also, \n<mark class=\"entity\" style=\"background: #bbceae; padding: 0.45em 0.6em; margin: 0 0.25em; line-height: 1; border-radius: 0.35em;\">\n    asking the advice of others helps one to grow. When someone asks for help they tend to remember how to deal with those specific situations later on in life.\n    <span style=\"font-size: 0.8em; font-weight: bold; line-height: 1; border-radius: 0.35em; vertical-align: middle; margin-left: 0.5rem\">Claim</span>\n</mark>\n \n<mark class=\"entity\" style=\"background: #c8f1bf; padding: 0.45em 0.6em; margin: 0 0.25em; line-height: 1; border-radius: 0.35em;\">\n    For instance, Generic_Name is struggling in her math class. Every time the class has a test she always finishes first, that is why she does not understand why her grades are not good in Ms. Generic_Name's math class. She told Generic_Name, &quot;I do not get it, I always finish my work first! I do not understand why I continue to get bad grades in here.&quot; Ms. Generic_Name told her that, &quot;Not everything is a race Generic_Name. The test are not timed so there is no need to rush.&quot; Generic_Name was very confused, she did not understand she thought if she finished fast that meant because she was so smart and did not need the extra time. When Generic_Name came to class the next day she asked her friends how they get such good grades on the test and they all said in a cautious tone, &quot;Read the questions carefully! Ms. Generic_Name is always trying to trick us.&quot; When Ms. Generic_Name entered the classroom she announced to the class that they had a pop quiz. Generic_Name still thinking of what her teacher and friends told her took her time on the pop quiz and earned an ninety five percent. Generic_Name was so proud. From now on Generic_Name knew that in order to make good grades she would have to just slow down a bit and take her time. Like Ms. Generic_Name said, &quot;Slow and steady wins the race, or in this case receives a good grade.&quot;\n    <span style=\"font-size: 0.8em; font-weight: bold; line-height: 1; border-radius: 0.35em; vertical-align: middle; margin-left: 0.5rem\">Evidence</span>\n</mark>\n</br></br>In addition, \n<mark class=\"entity\" style=\"background: #bbceae; padding: 0.45em 0.6em; margin: 0 0.25em; line-height: 1; border-radius: 0.35em;\">\n    taking the advice from others can help one to see the situation from a different point of view. Sometimes a person looking from the outside in on the situation may just help find a solution to it. \n    <span style=\"font-size: 0.8em; font-weight: bold; line-height: 1; border-radius: 0.35em; vertical-align: middle; margin-left: 0.5rem\">Claim</span>\n</mark>\n\n<mark class=\"entity\" style=\"background: #c8f1bf; padding: 0.45em 0.6em; margin: 0 0.25em; line-height: 1; border-radius: 0.35em;\">\n    Specifically, Generic_Name and Generic_Name have been best friends for forever and they do everything together. Every summer Generic_Name and Generic_Name go to basketball camp together but not this year. Generic_Name just got excepted into the Generic_City Summer Science Camp she has been trying to get into since the first grade. Generic_Name was so excited she had to call up her best friend Generic_Name and tell her the great news except Generic_Name did not think it was so great. When summer came around for the first time they had to go their separate ways to different camps. Generic_Name was really mad but she still missed her best friend the whole summer. Generic_Name, on the other hand was loving science camp she wrote to Generic_Name everyday trying to see how she was doing and telling how the great time she was having. Generic_Name decided that she was not going to write Generic_Name back in return of her just up and leaving her for science camp. When the girls returned back to school Generic_Name ignored Generic_Name which left her sad and confused. Generic_Name had no idea why she was acting that way she decided to ask their other friends if any of them knew why Generic_Name was acting that way but no one knew. When Generic_Name got home for her first day back to school she was greeted by her mom who was now confused as to why she looked so upset. She shared with her mom what was going on and her mom knew exactly what was wrong with Generic_Name. &quot;Generic_Name,&quot; Generic_Name's mom said, &quot;She may be hurt because you left her you two do everything together.&quot; Generic_Name now realizing what she had done ran up the steps and immediately called Generic_Name and apologized. Generic_Name was happy that her mom talked to her or she might have lost her best friend. That just goes to show that sometime having another person view the situation can help come up with a better solution.\n\n    <span style=\"font-size: 0.8em; font-weight: bold; line-height: 1; border-radius: 0.35em; vertical-align: middle; margin-left: 0.5rem\">Evidence</span>\n</mark>\n</br>\n<mark class=\"entity\" style=\"background: #d3b88a; padding: 0.45em 0.6em; margin: 0 0.25em; line-height: 1; border-radius: 0.35em;\">\n    However, some people feel that taking the advice from others is useless. They feel that solving their own problems helps them become a stronger individual.\n    <span style=\"font-size: 0.8em; font-weight: bold; line-height: 1; border-radius: 0.35em; vertical-align: middle; margin-left: 0.5rem\">Counterclaim</span>\n</mark>\n \n<mark class=\"entity\" style=\"background: #c8f1bf; padding: 0.45em 0.6em; margin: 0 0.25em; line-height: 1; border-radius: 0.35em;\">\n    Other may not like everyone being in their business because they may be a more private individual. Getting advice from other may not be the best thing because some people feel they know what is right and may think they know how to fix the situation but they do not.\n    <span style=\"font-size: 0.8em; font-weight: bold; line-height: 1; border-radius: 0.35em; vertical-align: middle; margin-left: 0.5rem\">Evidence</span>\n</mark>\n \n<mark class=\"entity\" style=\"background: #ef8c9d; padding: 0.45em 0.6em; margin: 0 0.25em; line-height: 1; border-radius: 0.35em;\">\n    On the contrary, I feel that asking others for advice is a great idea.\n\n    <span style=\"font-size: 0.8em; font-weight: bold; line-height: 1; border-radius: 0.35em; vertical-align: middle; margin-left: 0.5rem\">Rebuttal</span>\n</mark>\n</br>\n<mark class=\"entity\" style=\"background: #ed9a8b; padding: 0.45em 0.6em; margin: 0 0.25em; line-height: 1; border-radius: 0.35em;\">\n    In conclusion, these are all reasons why everyone should ask more than one person for advice. The way it builds one character. Prepares them for the real world. It is always a good idea to get an outsiders opinion. Like my mom always says, &quot;It never hurts to ask for help.&quot; \n    <span style=\"font-size: 0.8em; font-weight: bold; line-height: 1; border-radius: 0.35em; vertical-align: middle; margin-left: 0.5rem\">Concluding Statement</span>\n</mark>\n               </div></span>"
     },
     "metadata": {}
    },
    {
     "name": "stdout",
     "text": "\n\n",
     "output_type": "stream"
    },
    {
     "output_type": "display_data",
     "data": {
      "text/plain": "<IPython.core.display.HTML object>",
      "text/html": "<span class=\"tex2jax_ignore\"><h2 style=\"margin: 0\">231993662C14</h2>\n\n<div class=\"entities\" style=\"line-height: 2.5; direction: ltr\">Dear Principal,</br></br>\n<mark class=\"entity\" style=\"background: #c1dbd5; padding: 0.45em 0.6em; margin: 0 0.25em; line-height: 1; border-radius: 0.35em;\">\n    Community service is great for students. It helps us understand what is going on in our community and how to help it\n    <span style=\"font-size: 0.8em; font-weight: bold; line-height: 1; border-radius: 0.35em; vertical-align: middle; margin-left: 0.5rem\">Lead</span>\n</mark>\n.\n<mark class=\"entity\" style=\"background: #fcf2b6; padding: 0.45em 0.6em; margin: 0 0.25em; line-height: 1; border-radius: 0.35em;\">\n     In every grade of school, students should be required to have at least a few hours of community service.\n    <span style=\"font-size: 0.8em; font-weight: bold; line-height: 1; border-radius: 0.35em; vertical-align: middle; margin-left: 0.5rem\">Position</span>\n</mark>\n\n<mark class=\"entity\" style=\"background: #bbceae; padding: 0.45em 0.6em; margin: 0 0.25em; line-height: 1; border-radius: 0.35em;\">\n     It even looks good on an application to get into college\n    <span style=\"font-size: 0.8em; font-weight: bold; line-height: 1; border-radius: 0.35em; vertical-align: middle; margin-left: 0.5rem\">Claim</span>\n</mark>\n\n<mark class=\"entity\" style=\"background: #bbceae; padding: 0.45em 0.6em; margin: 0 0.25em; line-height: 1; border-radius: 0.35em;\">\n    . Community service also shows us that we are proud to be where we are and what we have.\n\n    <span style=\"font-size: 0.8em; font-weight: bold; line-height: 1; border-radius: 0.35em; vertical-align: middle; margin-left: 0.5rem\">Claim</span>\n</mark>\n</br>\n<mark class=\"entity\" style=\"background: #bbceae; padding: 0.45em 0.6em; margin: 0 0.25em; line-height: 1; border-radius: 0.35em;\">\n    First of all, community service lets us understand how we can help out in different ways all around us.\n    <span style=\"font-size: 0.8em; font-weight: bold; line-height: 1; border-radius: 0.35em; vertical-align: middle; margin-left: 0.5rem\">Claim</span>\n</mark>\n\n<mark class=\"entity\" style=\"background: #c8f1bf; padding: 0.45em 0.6em; margin: 0 0.25em; line-height: 1; border-radius: 0.35em;\">\n     From helping serve food at a soup kitchen or homeless shelter to just helping pick up trash at our school. We can grow into being a better person knowing that we have helped. It can shape us for when we get to be adults in the world. Helping out in our community shows us what is happening on all sides of us.\n\n    <span style=\"font-size: 0.8em; font-weight: bold; line-height: 1; border-radius: 0.35em; vertical-align: middle; margin-left: 0.5rem\">Evidence</span>\n</mark>\n\n<mark class=\"entity\" style=\"background: #bbceae; padding: 0.45em 0.6em; margin: 0 0.25em; line-height: 1; border-radius: 0.35em;\">\n    \nAfter students graduate high school, most of them are going to college. When they get an application and fill it out saying that they have helped out in there community, then the college will consider even more to accept them. \n    <span style=\"font-size: 0.8em; font-weight: bold; line-height: 1; border-radius: 0.35em; vertical-align: middle; margin-left: 0.5rem\">Claim</span>\n</mark>\n\n<mark class=\"entity\" style=\"background: #c8f1bf; padding: 0.45em 0.6em; margin: 0 0.25em; line-height: 1; border-radius: 0.35em;\">\n    It shows that, that student is willing to help, work, and be a good person. Colleges want students who are smart and nice and who love to help out.\n\n    <span style=\"font-size: 0.8em; font-weight: bold; line-height: 1; border-radius: 0.35em; vertical-align: middle; margin-left: 0.5rem\">Evidence</span>\n</mark>\n</br>\n<mark class=\"entity\" style=\"background: #bbceae; padding: 0.45em 0.6em; margin: 0 0.25em; line-height: 1; border-radius: 0.35em;\">\n    Helping out in a community not only helps other people, it helps you\n    <span style=\"font-size: 0.8em; font-weight: bold; line-height: 1; border-radius: 0.35em; vertical-align: middle; margin-left: 0.5rem\">Claim</span>\n</mark>\n\n<mark class=\"entity\" style=\"background: #d3b88a; padding: 0.45em 0.6em; margin: 0 0.25em; line-height: 1; border-radius: 0.35em;\">\n    . Most students say that its to much work and we don't get anything from it.\n    <span style=\"font-size: 0.8em; font-weight: bold; line-height: 1; border-radius: 0.35em; vertical-align: middle; margin-left: 0.5rem\">Counterclaim</span>\n</mark>\n \n<mark class=\"entity\" style=\"background: #ef8c9d; padding: 0.45em 0.6em; margin: 0 0.25em; line-height: 1; border-radius: 0.35em;\">\n    That is not true because we do get something from helping out. \n    <span style=\"font-size: 0.8em; font-weight: bold; line-height: 1; border-radius: 0.35em; vertical-align: middle; margin-left: 0.5rem\">Rebuttal</span>\n</mark>\n\n<mark class=\"entity\" style=\"background: #c8f1bf; padding: 0.45em 0.6em; margin: 0 0.25em; line-height: 1; border-radius: 0.35em;\">\n    We get the feeling of pride and joy knowing that they have helped someone with less things than they have. You get a feeling that nothing else can really ever replace.\n    <span style=\"font-size: 0.8em; font-weight: bold; line-height: 1; border-radius: 0.35em; vertical-align: middle; margin-left: 0.5rem\">Evidence</span>\n</mark>\n</br>\n<mark class=\"entity\" style=\"background: #ed9a8b; padding: 0.45em 0.6em; margin: 0 0.25em; line-height: 1; border-radius: 0.35em;\">\n    \nIn conclusion, I think that there should be a requirement of at least a few hours to help out in our community. It shows us what is happening in the world around us and how to help it. Community service shows us how to be a better person and how to embrace being that person. Not only does it look good on a college application but it helps shape our lives in ways we can never dream of.\n    <span style=\"font-size: 0.8em; font-weight: bold; line-height: 1; border-radius: 0.35em; vertical-align: middle; margin-left: 0.5rem\">Concluding Statement</span>\n</mark>\n</div></span>"
     },
     "metadata": {}
    },
    {
     "name": "stdout",
     "text": "\n\n",
     "output_type": "stream"
    },
    {
     "output_type": "display_data",
     "data": {
      "text/plain": "<IPython.core.display.HTML object>",
      "text/html": "<span class=\"tex2jax_ignore\"><h2 style=\"margin: 0\">C816339C4D91</h2>\n\n<div class=\"entities\" style=\"line-height: 2.5; direction: ltr\">\n<mark class=\"entity\" style=\"background: #c1dbd5; padding: 0.45em 0.6em; margin: 0 0.25em; line-height: 1; border-radius: 0.35em;\">\n    Distance learning is a new tool that some schools are using in order to give students an option of taking a class at home instead of at the classroom. This is an interesting way of teaching because it provides the comfort of working at home for students, which is becoming an increasing trend as of 2019, while still providing high-quality education from professional educators.\n    <span style=\"font-size: 0.8em; font-weight: bold; line-height: 1; border-radius: 0.35em; vertical-align: middle; margin-left: 0.5rem\">Lead</span>\n</mark>\n \n<mark class=\"entity\" style=\"background: #fcf2b6; padding: 0.45em 0.6em; margin: 0 0.25em; line-height: 1; border-radius: 0.35em;\">\n    Nevertheless, while distance teaching is an innovative idea in theory, this method will have a negative impact on students \n    <span style=\"font-size: 0.8em; font-weight: bold; line-height: 1; border-radius: 0.35em; vertical-align: middle; margin-left: 0.5rem\">Position</span>\n</mark>\nbecause \n<mark class=\"entity\" style=\"background: #bbceae; padding: 0.45em 0.6em; margin: 0 0.25em; line-height: 1; border-radius: 0.35em;\">\n    there will be too many distractions that will keep students from growing through educational means\n    <span style=\"font-size: 0.8em; font-weight: bold; line-height: 1; border-radius: 0.35em; vertical-align: middle; margin-left: 0.5rem\">Claim</span>\n</mark>\n and \n<mark class=\"entity\" style=\"background: #bbceae; padding: 0.45em 0.6em; margin: 0 0.25em; line-height: 1; border-radius: 0.35em;\">\n    developing life skills.\n\n    <span style=\"font-size: 0.8em; font-weight: bold; line-height: 1; border-radius: 0.35em; vertical-align: middle; margin-left: 0.5rem\">Claim</span>\n</mark>\n</br>\n<mark class=\"entity\" style=\"background: #bbceae; padding: 0.45em 0.6em; margin: 0 0.25em; line-height: 1; border-radius: 0.35em;\">\n    One of the reasons why video based learning will negatively influence students is that this option promotes weakens one's work ethic. \n    <span style=\"font-size: 0.8em; font-weight: bold; line-height: 1; border-radius: 0.35em; vertical-align: middle; margin-left: 0.5rem\">Claim</span>\n</mark>\n\n<mark class=\"entity\" style=\"background: #c8f1bf; padding: 0.45em 0.6em; margin: 0 0.25em; line-height: 1; border-radius: 0.35em;\">\n    One's house will most often contain most of their sources of entertainment, such as video games, food, hobbies, electronic devices, and more. As children with developing brains, staying on task with all of these factors can only be accomplished by a few, but not the majority. A study conducted by the University of Virginia states that, &quot;almost 90% of students under the age of 18 have an attention span of about 10-30 minutes before becoming distracted&quot; (Generic_Name). This exemplifies how most students cannot stay focused in a video based classroom when there is no adult supervisor or teacher directly making sure they listen, which is quite difficult to achieve via distance learning. With this in mind, it is harder for students to have motivation to complete work during class time when they have easy access to other sources of entertainment right at their fingertips. Thus, video based learning is detrimental to student's work ethic because it gives them no motivation to complete their work whereas in the normal school system, they would be forced to work on it during class because of a direct presence of an adult supervisor keeping them on track. All in all, a world without video learning for all students is a one that strengthen's one's work ethic through practice in the work place rather than at home.\n\n    <span style=\"font-size: 0.8em; font-weight: bold; line-height: 1; border-radius: 0.35em; vertical-align: middle; margin-left: 0.5rem\">Evidence</span>\n</mark>\n</br>\n<mark class=\"entity\" style=\"background: #bbceae; padding: 0.45em 0.6em; margin: 0 0.25em; line-height: 1; border-radius: 0.35em;\">\n    Secondly, distance learning encourages antisocial behavior among students, especially in the elementary and middle school level where their brains are developing social skills. \n    <span style=\"font-size: 0.8em; font-weight: bold; line-height: 1; border-radius: 0.35em; vertical-align: middle; margin-left: 0.5rem\">Claim</span>\n</mark>\n\n<mark class=\"entity\" style=\"background: #c8f1bf; padding: 0.45em 0.6em; margin: 0 0.25em; line-height: 1; border-radius: 0.35em;\">\n    According to the New York Times, &quot;children at the earliest age of 6 years old begin developing social patterns that they will continue to emulate throughout their entire lives&quot; (Generic_Name). This proves how these years in a classroom are a crucial time for developing young minds to nurture and grow into mature adults. The reason why video based learning will tamper with this stage in student's minds is because if they only work at home, then unless they go to after school activities, they will not experience how to physically develop long lasting relationships with other people in a work setting. When a teacher assigns a group project, students not only learn about a the topic of their assignment but how to work with and interact with other humans beings of a similar intellect.\n    <span style=\"font-size: 0.8em; font-weight: bold; line-height: 1; border-radius: 0.35em; vertical-align: middle; margin-left: 0.5rem\">Evidence</span>\n</mark>\n \n<mark class=\"entity\" style=\"background: #d3b88a; padding: 0.45em 0.6em; margin: 0 0.25em; line-height: 1; border-radius: 0.35em;\">\n    While human interaction can be achieved through video calls,\n    <span style=\"font-size: 0.8em; font-weight: bold; line-height: 1; border-radius: 0.35em; vertical-align: middle; margin-left: 0.5rem\">Counterclaim</span>\n</mark>\n \n<mark class=\"entity\" style=\"background: #ef8c9d; padding: 0.45em 0.6em; margin: 0 0.25em; line-height: 1; border-radius: 0.35em;\">\n    the experience is way different then if they were to be with each other physically learning how to productively cooperate with people sitting right next to them. \n    <span style=\"font-size: 0.8em; font-weight: bold; line-height: 1; border-radius: 0.35em; vertical-align: middle; margin-left: 0.5rem\">Rebuttal</span>\n</mark>\n\n<mark class=\"entity\" style=\"background: #c8f1bf; padding: 0.45em 0.6em; margin: 0 0.25em; line-height: 1; border-radius: 0.35em;\">\n    This is an important skill to develop because it reflects how people in the real world work in corporate settings to solve a problem together. If one cannot work with other people with differing perspectives in a constructive manner then they will struggle their entire lives. Thus, distance learning also negatively impacts students by denying them the chance to develop social skills that will be vital to them when they become independent adults.\n\n    <span style=\"font-size: 0.8em; font-weight: bold; line-height: 1; border-radius: 0.35em; vertical-align: middle; margin-left: 0.5rem\">Evidence</span>\n</mark>\n</br>\n<mark class=\"entity\" style=\"background: #bbceae; padding: 0.45em 0.6em; margin: 0 0.25em; line-height: 1; border-radius: 0.35em;\">\n    Lastly, video based learning should not be mandatory for all students because it is more difficult for teachers to give individual assistance to students who are struggling in the class.\n    <span style=\"font-size: 0.8em; font-weight: bold; line-height: 1; border-radius: 0.35em; vertical-align: middle; margin-left: 0.5rem\">Claim</span>\n</mark>\n\n<mark class=\"entity\" style=\"background: #c8f1bf; padding: 0.45em 0.6em; margin: 0 0.25em; line-height: 1; border-radius: 0.35em;\">\n     Most often then not, there has been a time where everyone has not understood a concept in a class, or has had a question about an assignment. Video based learning does not help these people since it is more of a hassle for teachers to continue on with a lesson and answer a hundred different questions simultaneously.\n\nRecently, a poll taken in 2019 with the schools who attempted to use distance learning reported that, &quot;almost 95% of students had their grades drop between half and a full letter grade in the past semester because it was more difficult for them to ask questions and succeed&quot; (Generic_Name). This statistic shows from a student's perspective how this educational system is not even increasing the rate of obtaining high grades, which is what this option was meant to do. The interactions between a teacher and a student in a physical setting is what makes the standard class a successful system since it ensures that teachers have an equal opportunity to make the lesson as clear as possible. Video based learning completely takes that function of a classroom away, which hurts students by making it harder to do well in school. Thus, distance learning should not be implemented in schools all around the world since it will only work against students goals.\n\n    <span style=\"font-size: 0.8em; font-weight: bold; line-height: 1; border-radius: 0.35em; vertical-align: middle; margin-left: 0.5rem\">Evidence</span>\n</mark>\n</br>\n<mark class=\"entity\" style=\"background: #ed9a8b; padding: 0.45em 0.6em; margin: 0 0.25em; line-height: 1; border-radius: 0.35em;\">\n    In conclusion, distance learning is a system with good intentions, but has its flaws that makes it far inferior to the standard classroom. This is because it limits the ability to have a strong work ethic, to develop social skills, and to have the option to ask as many questions as students need. All in all, this educational system will result in an ill equipped generation that is not ready for adulthood and the workplace, and should not be used in schools in the coming future. \n    <span style=\"font-size: 0.8em; font-weight: bold; line-height: 1; border-radius: 0.35em; vertical-align: middle; margin-left: 0.5rem\">Concluding Statement</span>\n</mark>\n</div></span>"
     },
     "metadata": {}
    },
    {
     "name": "stdout",
     "text": "\n\n",
     "output_type": "stream"
    },
    {
     "output_type": "display_data",
     "data": {
      "text/plain": "<IPython.core.display.HTML object>",
      "text/html": "<span class=\"tex2jax_ignore\"><h2 style=\"margin: 0\">A7AB95A87C65</h2>\n\n<div class=\"entities\" style=\"line-height: 2.5; direction: ltr\">Dear Principle,</br></br>\n<mark class=\"entity\" style=\"background: #fcf2b6; padding: 0.45em 0.6em; margin: 0 0.25em; line-height: 1; border-radius: 0.35em;\">\n    I do think that community service should be required to all students.\n    <span style=\"font-size: 0.8em; font-weight: bold; line-height: 1; border-radius: 0.35em; vertical-align: middle; margin-left: 0.5rem\">Position</span>\n</mark>\n\n<mark class=\"entity\" style=\"background: #bbceae; padding: 0.45em 0.6em; margin: 0 0.25em; line-height: 1; border-radius: 0.35em;\">\n     I say this because that more that we do around the community, it will keep us children even adults well rounded.\n    <span style=\"font-size: 0.8em; font-weight: bold; line-height: 1; border-radius: 0.35em; vertical-align: middle; margin-left: 0.5rem\">Claim</span>\n</mark>\n \n<mark class=\"entity\" style=\"background: #bbceae; padding: 0.45em 0.6em; margin: 0 0.25em; line-height: 1; border-radius: 0.35em;\">\n    To assure that we will be doing our certain amount of community service, you should have a list of options that we can have so that we can do something we know will be interesting.\n    <span style=\"font-size: 0.8em; font-weight: bold; line-height: 1; border-radius: 0.35em; vertical-align: middle; margin-left: 0.5rem\">Claim</span>\n</mark>\n \n<mark class=\"entity\" style=\"background: #bbceae; padding: 0.45em 0.6em; margin: 0 0.25em; line-height: 1; border-radius: 0.35em;\">\n    Also the more we help out it will be helpful to those who cant help themselves or the elderly, or even more gentle babysitting.\n    <span style=\"font-size: 0.8em; font-weight: bold; line-height: 1; border-radius: 0.35em; vertical-align: middle; margin-left: 0.5rem\">Claim</span>\n</mark>\n\n<mark class=\"entity\" style=\"background: #d3b88a; padding: 0.45em 0.6em; margin: 0 0.25em; line-height: 1; border-radius: 0.35em;\">\n     I do see that other children may have things going on in their lives like sports or family.\n    <span style=\"font-size: 0.8em; font-weight: bold; line-height: 1; border-radius: 0.35em; vertical-align: middle; margin-left: 0.5rem\">Counterclaim</span>\n</mark>\n \n<mark class=\"entity\" style=\"background: #bbceae; padding: 0.45em 0.6em; margin: 0 0.25em; line-height: 1; border-radius: 0.35em;\">\n    the reason of me saying this it could and probably will keep most children out of trouble as well as, keeping them well rounded or just helpful.\n\n    <span style=\"font-size: 0.8em; font-weight: bold; line-height: 1; border-radius: 0.35em; vertical-align: middle; margin-left: 0.5rem\">Claim</span>\n</mark>\n</br>\n<mark class=\"entity\" style=\"background: #ed9a8b; padding: 0.45em 0.6em; margin: 0 0.25em; line-height: 1; border-radius: 0.35em;\">\n    overall they can and most likely will be benefited by this. so all in all i do think that community service will and should be required to all students.\n    <span style=\"font-size: 0.8em; font-weight: bold; line-height: 1; border-radius: 0.35em; vertical-align: middle; margin-left: 0.5rem\">Concluding Statement</span>\n</mark>\n</br></br>Sincerely,</br></br>STUDENT_NAME</div></span>"
     },
     "metadata": {}
    },
    {
     "name": "stdout",
     "text": "\n\n",
     "output_type": "stream"
    }
   ]
  },
  {
   "cell_type": "markdown",
   "source": "### preprocessing",
   "metadata": {}
  },
  {
   "cell_type": "markdown",
   "source": "Convert classes into ints, also we put `No Class` for sentences with no label",
   "metadata": {
    "id": "FcaDhR1k_JzV"
   }
  },
  {
   "cell_type": "code",
   "source": "ID2CLASS = dict(enumerate(df['discourse_type'].unique().tolist() + ['No Class']))\nCLASS2ID = {v: k for k, v in ID2CLASS.items()}\n# print(ID2CLASS)\nCLASS2ID",
   "metadata": {
    "id": "zD5Z06uF-yIE",
    "_kg_hide-input": true,
    "execution": {
     "iopub.status.busy": "2021-12-27T17:12:06.891686Z",
     "iopub.execute_input": "2021-12-27T17:12:06.892023Z",
     "iopub.status.idle": "2021-12-27T17:12:06.910739Z",
     "shell.execute_reply.started": "2021-12-27T17:12:06.891986Z",
     "shell.execute_reply": "2021-12-27T17:12:06.909990Z"
    },
    "trusted": true
   },
   "execution_count": 5,
   "outputs": [
    {
     "execution_count": 5,
     "output_type": "execute_result",
     "data": {
      "text/plain": "{'Lead': 0,\n 'Position': 1,\n 'Evidence': 2,\n 'Claim': 3,\n 'Concluding Statement': 4,\n 'Counterclaim': 5,\n 'Rebuttal': 6,\n 'No Class': 7}"
     },
     "metadata": {}
    }
   ]
  },
  {
   "cell_type": "markdown",
   "source": "And here are some helper functions to transform data to sentences\n* fill_gaps(), classifies parts of the texts that has not label as \"No Class\" \n* get_elements(), creates a list of text sections for a each text\n* get_x_samples(), maps each sentences to their labels.",
   "metadata": {}
  },
  {
   "cell_type": "code",
   "source": "def get_text(source_dir,a_id):\n    a_file = f\"{source_dir}/{a_id}.txt\"\n    with open(a_file, \"r\") as fp:\n        txt = fp.read()\n    return txt\n\ndef fill_gaps(elements, text):\n    \"\"\"Add \"No Class\" elements to a list of elements (see get_elements) \"\"\"\n    initial_idx = 0\n    final_idx = len(text)\n\n    # Add element at the beginning if it doesn't in index 0\n    new_elements = []\n    if elements[0][0] != initial_idx:\n        starting_element = (0, elements[0][0]-1, 'No Class')\n        new_elements.append(starting_element)\n\n\n    # Add element at the end if it doesn't in index \"-1\"\n    if elements[-1][1] != final_idx:\n        closing_element = (elements[-1][1]+1, final_idx, 'No Class')\n        new_elements.append(closing_element)\n\n    elements += new_elements\n    elements = sorted(elements, key=lambda x: x[0])\n\n    # Add \"No class\" elements inbetween separated elements \n    new_elements = []\n    for i in range(1, len(elements)-1):\n        if elements[i][0] != elements[i-1][1] + 1 and elements[i][0] != elements[i-1][1]:\n            new_element = (elements[i-1][1] + 1, elements[i][0]-1, 'No Class')\n            new_elements.append(new_element)\n\n    elements += new_elements\n    elements = sorted(elements, key=lambda x: x[0])\n    return elements\n\n\ndef get_elements(df, text_id, do_fill_gaps=True, text=None):\n    \"\"\"Get a list of (start, end, class) elements for a given text_id\"\"\"\n    text = get_text(text_id) if text is None else text\n    df_text = df[df['id'] == text_id]\n    elements = df_text[['discourse_start', 'discourse_end', 'discourse_type']].to_records(index=False).tolist()\n    if do_fill_gaps:\n        elements = fill_gaps(elements, text)\n    return elements\n\ndef get_x_samples(df, text_id, do_fill_gaps=True):\n    \"\"\"Create a dataframe of the sentences of the text_id, with columns text, label \"\"\"\n    text = get_text(train_text_dir,text_id)\n    elements = get_elements(df, text_id, do_fill_gaps, text)\n    sentences = []\n    for start, end, class_ in elements:\n        elem_sentences = nltk.sent_tokenize(text[start:end])\n        sentences += [(sentence, class_) for sentence in elem_sentences]\n    df = pd.DataFrame(sentences, columns=['text', 'label'])\n    df['label'] = df['label'].map(CLASS2ID)\n    return df",
   "metadata": {
    "_kg_hide-input": true,
    "execution": {
     "iopub.status.busy": "2021-12-27T17:12:06.912266Z",
     "iopub.execute_input": "2021-12-27T17:12:06.912664Z",
     "iopub.status.idle": "2021-12-27T17:12:06.927131Z",
     "shell.execute_reply.started": "2021-12-27T17:12:06.912626Z",
     "shell.execute_reply": "2021-12-27T17:12:06.926294Z"
    },
    "trusted": true
   },
   "execution_count": 6,
   "outputs": []
  },
  {
   "cell_type": "code",
   "source": "text_ids = df['id'].unique().tolist()",
   "metadata": {
    "_kg_hide-input": true,
    "execution": {
     "iopub.status.busy": "2021-12-27T17:12:06.928444Z",
     "iopub.execute_input": "2021-12-27T17:12:06.929212Z",
     "iopub.status.idle": "2021-12-27T17:12:06.953515Z",
     "shell.execute_reply.started": "2021-12-27T17:12:06.929174Z",
     "shell.execute_reply": "2021-12-27T17:12:06.952726Z"
    },
    "trusted": true
   },
   "execution_count": 7,
   "outputs": []
  },
  {
   "cell_type": "markdown",
   "source": "And here we build our sentence dataframe",
   "metadata": {}
  },
  {
   "cell_type": "code",
   "source": "x = []\nfor text_id in tqdm(text_ids):\n    x.append(get_x_samples(df, text_id))\n\ndf_sentences = pd.concat(x)\ndf_sentences = df_sentences[df_sentences.text.str.split().str.len() >= 3]\ndf_sentences.to_csv(\"df_sentence.csv\", index=False)",
   "metadata": {
    "execution": {
     "iopub.status.busy": "2021-12-27T17:12:06.955064Z",
     "iopub.execute_input": "2021-12-27T17:12:06.955741Z",
     "iopub.status.idle": "2021-12-27T17:18:52.005537Z",
     "shell.execute_reply.started": "2021-12-27T17:12:06.955700Z",
     "shell.execute_reply": "2021-12-27T17:18:52.004614Z"
    },
    "trusted": true
   },
   "execution_count": 8,
   "outputs": [
    {
     "output_type": "display_data",
     "data": {
      "text/plain": "  0%|          | 0/15594 [00:00<?, ?it/s]",
      "application/vnd.jupyter.widget-view+json": {
       "version_major": 2,
       "version_minor": 0,
       "model_id": "e4f9c3e562c64f45abda669197b6ffdd"
      }
     },
     "metadata": {}
    }
   ]
  },
  {
   "cell_type": "markdown",
   "source": "Slice trainset, in order to train the kernel faster\n\nIt should be removed when training model for submission",
   "metadata": {}
  },
  {
   "cell_type": "code",
   "source": "df_sample = df_sentences.sample(n=3000, random_state=42)\nprint('class distribution in sample set :')\ndf_sample['label'].value_counts()",
   "metadata": {
    "_kg_hide-input": true,
    "execution": {
     "iopub.status.busy": "2021-12-27T17:18:52.010310Z",
     "iopub.execute_input": "2021-12-27T17:18:52.010638Z",
     "iopub.status.idle": "2021-12-27T17:18:52.032513Z",
     "shell.execute_reply.started": "2021-12-27T17:18:52.010605Z",
     "shell.execute_reply": "2021-12-27T17:18:52.031836Z"
    },
    "trusted": true
   },
   "execution_count": 9,
   "outputs": [
    {
     "name": "stdout",
     "text": "class distribution in sample set :\n",
     "output_type": "stream"
    },
    {
     "execution_count": 9,
     "output_type": "execute_result",
     "data": {
      "text/plain": "2    1457\n3     488\n4     366\n0     235\n1     179\n7     150\n5      66\n6      59\nName: label, dtype: int64"
     },
     "metadata": {}
    }
   ]
  },
  {
   "cell_type": "markdown",
   "source": "### Finetune AWD-LSTM on our corpus to train [ULMFIT](https://docs.fast.ai/tutorial.text.html) ",
   "metadata": {
    "id": "wTJ48LTTElwc"
   }
  },
  {
   "cell_type": "markdown",
   "source": "Create [TextDataLoaders](https://docs.fast.ai/text.data.html#TextDataLoaders.from_df) from our df_sentences. keep in mind that using `is_lm` to `True` because later on we want to use it for finetuning our language model.",
   "metadata": {
    "id": "AQvBuRKuDIy_"
   }
  },
  {
   "cell_type": "code",
   "source": "dls_lm = TextDataLoaders.from_df(df_sample, path=data_dir,is_lm=True)\ndls_lm.show_batch(max_n=3)",
   "metadata": {
    "executionInfo": {
     "elapsed": 347216,
     "status": "ok",
     "timestamp": 1640091119499,
     "user": {
      "displayName": "Ali Farid",
      "photoUrl": "https://lh3.googleusercontent.com/a-/AOh14Gg3Z6YV0-2TkYch5LSCn-o-LLgml064QtEiE1mr=s64",
      "userId": "12633910519416978942"
     },
     "user_tz": -210
    },
    "id": "IyrbzwnBAMln",
    "outputId": "0a70e85c-f6a1-429b-abcf-d80ab1bd72b7",
    "_kg_hide-input": true,
    "execution": {
     "iopub.status.busy": "2021-12-27T17:18:52.035565Z",
     "iopub.execute_input": "2021-12-27T17:18:52.035767Z",
     "iopub.status.idle": "2021-12-27T17:19:00.147575Z",
     "shell.execute_reply.started": "2021-12-27T17:18:52.035744Z",
     "shell.execute_reply": "2021-12-27T17:19:00.146789Z"
    },
    "trusted": true
   },
   "execution_count": 10,
   "outputs": [
    {
     "output_type": "display_data",
     "data": {
      "text/plain": "<IPython.core.display.HTML object>",
      "text/html": ""
     },
     "metadata": {}
    },
    {
     "output_type": "display_data",
     "data": {
      "text/plain": "<IPython.core.display.HTML object>",
      "text/html": "<table border=\"1\" class=\"dataframe\">\n  <thead>\n    <tr style=\"text-align: right;\">\n      <th></th>\n      <th>text</th>\n      <th>text_</th>\n    </tr>\n  </thead>\n  <tbody>\n    <tr>\n      <th>0</th>\n      <td>xxbos xxmaj also , there can always be that one person i m not saying to keep your xxunk small what i m saying is everyone is not always xxunk xxunk give you the right xxunk xxbos sincerely your student . xxbos xxmaj electoral xxmaj college xxunk problem with run - xxunk in which no candidate recieves a majority vote cast , which is the popular vote . xxbos xxmaj you know</td>\n      <td>xxmaj also , there can always be that one person i m not saying to keep your xxunk small what i m saying is everyone is not always xxunk xxunk give you the right xxunk xxbos sincerely your student . xxbos xxmaj electoral xxmaj college xxunk problem with run - xxunk in which no candidate recieves a majority vote cast , which is the popular vote . xxbos xxmaj you know all</td>\n    </tr>\n    <tr>\n      <th>1</th>\n      <td>with me and that walking on the green going to xxunk please give us a break that 's why xxunk cut up all the time because you always say walk on the green it is making us cut up like that since xxmaj elementary school we did n't have to walk on the green but now we are in middle school we have to walk on the green , i mean come</td>\n      <td>me and that walking on the green going to xxunk please give us a break that 's why xxunk cut up all the time because you always say walk on the green it is making us cut up like that since xxmaj elementary school we did n't have to walk on the green but now we are in middle school we have to walk on the green , i mean come on</td>\n    </tr>\n    <tr>\n      <th>2</th>\n      <td>to do the sport they want to do for a living and school can get in the way if they needed to do an extra sport . xxbos xxmaj xxunk ,   xxmaj robert xxmaj duffer xxunk \" paris bans driving due to xxunk \" explaining how \" paris xxunk has more smog than other xxmaj xxunk xxunk … \" xxmaj in xxmaj paris , many people are using cars , and</td>\n      <td>do the sport they want to do for a living and school can get in the way if they needed to do an extra sport . xxbos xxmaj xxunk ,   xxmaj robert xxmaj duffer xxunk \" paris bans driving due to xxunk \" explaining how \" paris xxunk has more smog than other xxmaj xxunk xxunk … \" xxmaj in xxmaj paris , many people are using cars , and they</td>\n    </tr>\n  </tbody>\n</table>"
     },
     "metadata": {}
    }
   ]
  },
  {
   "cell_type": "markdown",
   "source": "and save dataloader for later use",
   "metadata": {
    "id": "hTQWhNhXGihQ"
   }
  },
  {
   "cell_type": "code",
   "source": "torch.save(dls_lm, out / 'dls_lm.pkl')\n# dls_lm = torch.load(out / 'dls_lm.pkl')",
   "metadata": {
    "id": "gIokcqvfgNDw",
    "_kg_hide-input": true,
    "execution": {
     "iopub.status.busy": "2021-12-27T17:19:00.149121Z",
     "iopub.execute_input": "2021-12-27T17:19:00.149427Z",
     "iopub.status.idle": "2021-12-27T17:19:00.244623Z",
     "shell.execute_reply.started": "2021-12-27T17:19:00.149373Z",
     "shell.execute_reply": "2021-12-27T17:19:00.243910Z"
    },
    "trusted": true
   },
   "execution_count": 11,
   "outputs": []
  },
  {
   "cell_type": "markdown",
   "source": "Here we instantiate our [language_model_learner](https://docs.fast.ai/text.learner.html#language_model_learner) and using [Mixed precision training](https://docs.fast.ai/callback.fp16.html#Learner.to_fp16) by adding `.to_fp16()` at the end of code",
   "metadata": {
    "id": "arHsbR2y5_Z8"
   }
  },
  {
   "cell_type": "code",
   "source": "learn = language_model_learner(dls_lm, AWD_LSTM, metrics=[accuracy, Perplexity()], path=data_dir, wd=0.1, model_dir=\"/tmp/model/\").to_fp16()",
   "metadata": {
    "executionInfo": {
     "elapsed": 11966,
     "status": "ok",
     "timestamp": 1640091143616,
     "user": {
      "displayName": "Ali Farid",
      "photoUrl": "https://lh3.googleusercontent.com/a-/AOh14Gg3Z6YV0-2TkYch5LSCn-o-LLgml064QtEiE1mr=s64",
      "userId": "12633910519416978942"
     },
     "user_tz": -210
    },
    "id": "41DLv4vWC33A",
    "outputId": "d5f33be5-9cd3-413e-ec96-a2d7b2828cd5",
    "execution": {
     "iopub.status.busy": "2021-12-27T17:19:00.246766Z",
     "iopub.execute_input": "2021-12-27T17:19:00.247212Z",
     "iopub.status.idle": "2021-12-27T17:19:00.738159Z",
     "shell.execute_reply.started": "2021-12-27T17:19:00.247172Z",
     "shell.execute_reply": "2021-12-27T17:19:00.737407Z"
    },
    "trusted": true
   },
   "execution_count": 12,
   "outputs": []
  },
  {
   "cell_type": "markdown",
   "source": "Using learning rate finder of fastai. Here we plot the loss versus the learning rates. We're interested in finding a good order of magnitude of the learning rate, so we plot with a log scale. Then, we choose a value that is approximately in the middle of the sharpest downward slope.\n\nFor more information on the finding the good learning rate you can refer to this post: [how do you find a good learning rate](https://sgugger.github.io/how-do-you-find-a-good-learning-rate.html)",
   "metadata": {
    "id": "WrD67LfV5u0F"
   }
  },
  {
   "cell_type": "code",
   "source": "learn.lr_find()",
   "metadata": {
    "executionInfo": {
     "elapsed": 45671,
     "status": "ok",
     "timestamp": 1640091189253,
     "user": {
      "displayName": "Ali Farid",
      "photoUrl": "https://lh3.googleusercontent.com/a-/AOh14Gg3Z6YV0-2TkYch5LSCn-o-LLgml064QtEiE1mr=s64",
      "userId": "12633910519416978942"
     },
     "user_tz": -210
    },
    "id": "q4VQ0kN2C6DR",
    "outputId": "668c4dba-afa3-4120-c2fb-12f37e9d4de5",
    "execution": {
     "iopub.status.busy": "2021-12-27T17:19:00.739573Z",
     "iopub.execute_input": "2021-12-27T17:19:00.739826Z",
     "iopub.status.idle": "2021-12-27T17:19:27.166462Z",
     "shell.execute_reply.started": "2021-12-27T17:19:00.739792Z",
     "shell.execute_reply": "2021-12-27T17:19:27.165787Z"
    },
    "trusted": true
   },
   "execution_count": 13,
   "outputs": [
    {
     "output_type": "display_data",
     "data": {
      "text/plain": "<IPython.core.display.HTML object>",
      "text/html": ""
     },
     "metadata": {}
    },
    {
     "execution_count": 13,
     "output_type": "execute_result",
     "data": {
      "text/plain": "SuggestedLRs(valley=0.0063095735386013985)"
     },
     "metadata": {}
    },
    {
     "output_type": "display_data",
     "data": {
      "text/plain": "<Figure size 432x288 with 1 Axes>",
      "image/png": "[encoded data removed]"
     },
     "metadata": {
      "needs_background": "light"
     }
    }
   ]
  },
  {
   "cell_type": "markdown",
   "source": "Next, we finetune the model. By default, a pretrained Learner is in a frozen state, meaning that only the head of the model will train while the body stays frozen.",
   "metadata": {
    "id": "QPebovzF6j5a"
   }
  },
  {
   "cell_type": "code",
   "source": "learn.fit_one_cycle(1, 1e-3)",
   "metadata": {
    "executionInfo": {
     "elapsed": 751155,
     "status": "ok",
     "timestamp": 1640091940370,
     "user": {
      "displayName": "Ali Farid",
      "photoUrl": "https://lh3.googleusercontent.com/a-/AOh14Gg3Z6YV0-2TkYch5LSCn-o-LLgml064QtEiE1mr=s64",
      "userId": "12633910519416978942"
     },
     "user_tz": -210
    },
    "id": "47JAW7aNHtdn",
    "outputId": "3f56bccf-e801-4fc0-d472-465e52ff51c5",
    "execution": {
     "iopub.status.busy": "2021-12-27T17:19:27.167900Z",
     "iopub.execute_input": "2021-12-27T17:19:27.168186Z",
     "iopub.status.idle": "2021-12-27T17:19:31.268615Z",
     "shell.execute_reply.started": "2021-12-27T17:19:27.168150Z",
     "shell.execute_reply": "2021-12-27T17:19:31.267963Z"
    },
    "trusted": true
   },
   "execution_count": 14,
   "outputs": [
    {
     "output_type": "display_data",
     "data": {
      "text/plain": "<IPython.core.display.HTML object>",
      "text/html": "<table border=\"1\" class=\"dataframe\">\n  <thead>\n    <tr style=\"text-align: left;\">\n      <th>epoch</th>\n      <th>train_loss</th>\n      <th>valid_loss</th>\n      <th>accuracy</th>\n      <th>perplexity</th>\n      <th>time</th>\n    </tr>\n  </thead>\n  <tbody>\n    <tr>\n      <td>0</td>\n      <td>5.026124</td>\n      <td>4.742890</td>\n      <td>0.222184</td>\n      <td>114.765381</td>\n      <td>00:04</td>\n    </tr>\n  </tbody>\n</table>"
     },
     "metadata": {}
    }
   ]
  },
  {
   "cell_type": "markdown",
   "source": "We can then fine-tune the model after unfreezing",
   "metadata": {
    "id": "tAwMbvR26mR9"
   }
  },
  {
   "cell_type": "code",
   "source": "learn.unfreeze()\nlearn.fit_one_cycle(7, 1e-4)",
   "metadata": {
    "id": "i5mP4BbcJ3LZ",
    "outputId": "3993a9ca-4ac9-4068-d97f-5e549103036d",
    "execution": {
     "iopub.status.busy": "2021-12-27T17:19:31.269999Z",
     "iopub.execute_input": "2021-12-27T17:19:31.270254Z",
     "iopub.status.idle": "2021-12-27T17:19:58.252205Z",
     "shell.execute_reply.started": "2021-12-27T17:19:31.270219Z",
     "shell.execute_reply": "2021-12-27T17:19:58.251198Z"
    },
    "trusted": true
   },
   "execution_count": 15,
   "outputs": [
    {
     "output_type": "display_data",
     "data": {
      "text/plain": "<IPython.core.display.HTML object>",
      "text/html": "<table border=\"1\" class=\"dataframe\">\n  <thead>\n    <tr style=\"text-align: left;\">\n      <th>epoch</th>\n      <th>train_loss</th>\n      <th>valid_loss</th>\n      <th>accuracy</th>\n      <th>perplexity</th>\n      <th>time</th>\n    </tr>\n  </thead>\n  <tbody>\n    <tr>\n      <td>0</td>\n      <td>4.923365</td>\n      <td>4.541959</td>\n      <td>0.227180</td>\n      <td>93.874550</td>\n      <td>00:03</td>\n    </tr>\n    <tr>\n      <td>1</td>\n      <td>4.729621</td>\n      <td>4.170433</td>\n      <td>0.236116</td>\n      <td>64.743484</td>\n      <td>00:03</td>\n    </tr>\n    <tr>\n      <td>2</td>\n      <td>4.547795</td>\n      <td>3.956281</td>\n      <td>0.249683</td>\n      <td>52.262623</td>\n      <td>00:03</td>\n    </tr>\n    <tr>\n      <td>3</td>\n      <td>4.409132</td>\n      <td>3.882116</td>\n      <td>0.272899</td>\n      <td>48.526806</td>\n      <td>00:03</td>\n    </tr>\n    <tr>\n      <td>4</td>\n      <td>4.312719</td>\n      <td>3.856793</td>\n      <td>0.276535</td>\n      <td>47.313358</td>\n      <td>00:03</td>\n    </tr>\n    <tr>\n      <td>5</td>\n      <td>4.251746</td>\n      <td>3.845789</td>\n      <td>0.278461</td>\n      <td>46.795601</td>\n      <td>00:03</td>\n    </tr>\n    <tr>\n      <td>6</td>\n      <td>4.207500</td>\n      <td>3.844001</td>\n      <td>0.278605</td>\n      <td>46.711975</td>\n      <td>00:03</td>\n    </tr>\n  </tbody>\n</table>"
     },
     "metadata": {}
    }
   ]
  },
  {
   "cell_type": "markdown",
   "source": "Saving encoder for later use in text classification\nNOTE THAT\n\n`\nEncoder: The model not including the task-specific final layer(s). It means much the same thing as body when applied to vision CNNs, but tends to be more used for NLP and generative models\n`",
   "metadata": {
    "id": "SuxNdScTjCJC"
   }
  },
  {
   "cell_type": "code",
   "source": "learn.save_encoder(out / 'finetuned')",
   "metadata": {
    "id": "6zTrB_YahkhB",
    "execution": {
     "iopub.status.busy": "2021-12-27T17:19:58.253970Z",
     "iopub.execute_input": "2021-12-27T17:19:58.254272Z",
     "iopub.status.idle": "2021-12-27T17:19:58.466558Z",
     "shell.execute_reply.started": "2021-12-27T17:19:58.254231Z",
     "shell.execute_reply": "2021-12-27T17:19:58.465751Z"
    },
    "trusted": true
   },
   "execution_count": 16,
   "outputs": []
  },
  {
   "cell_type": "markdown",
   "source": "Here we gather our data for text classification almost exactly like before.\n\nThe main difference is that we have to use the exact same vocabulary as when we were fine-tuning our language model, or the weights learned won't make any sense. We pass that vocabulary with vocab by adding `text_vocab=dls_lm.vocab`",
   "metadata": {
    "id": "Usf3Wl0w6t0O"
   }
  },
  {
   "cell_type": "code",
   "source": "dls_clas = TextDataLoaders.from_df(df_sentences, path=data_dir, text_col='text', label_col='label',text_vocab=dls_lm.vocab)\ndls_clas.show_batch(max_n=3)",
   "metadata": {
    "id": "6S5I8LmghmYt",
    "outputId": "c9ca6218-5444-414e-d42b-bd32b69d2d50",
    "execution": {
     "iopub.status.busy": "2021-12-27T17:19:58.467890Z",
     "iopub.execute_input": "2021-12-27T17:19:58.468277Z",
     "iopub.status.idle": "2021-12-27T17:28:47.636619Z",
     "shell.execute_reply.started": "2021-12-27T17:19:58.468245Z",
     "shell.execute_reply": "2021-12-27T17:28:47.635812Z"
    },
    "trusted": true
   },
   "execution_count": 17,
   "outputs": [
    {
     "output_type": "display_data",
     "data": {
      "text/plain": "<IPython.core.display.HTML object>",
      "text/html": ""
     },
     "metadata": {}
    },
    {
     "output_type": "display_data",
     "data": {
      "text/plain": "<IPython.core.display.HTML object>",
      "text/html": "<table border=\"1\" class=\"dataframe\">\n  <thead>\n    <tr style=\"text-align: right;\">\n      <th></th>\n      <th>text</th>\n      <th>category</th>\n    </tr>\n  </thead>\n  <tbody>\n    <tr>\n      <th>0</th>\n      <td>xxbos the presidental election is to find a new leader of the united states he xxunk has to pass laws and do xxunk we vote to make sure we get the right president we do nt want someone that s xxunk xxunk make xxunk laws and xxunk the people to much the president has to take charge has to go to  ▁ world xxunk has to be a role model for the xxunk people in the world the president has to do alot of work now the xxunk president has to do what the president ca nt do sometimes other times he s just there to help the president when he needs him like when the presidents gone on xxunk the xxunk president does his work for him but sometimes the xxunk president xxunk up with xxunk so that s why we need to chose the best president not someone</td>\n      <td>2</td>\n    </tr>\n    <tr>\n      <th>1</th>\n      <td>xxbos community service it is also good because the way you are not always in your house trying to figure out what are you going to do because your bored or you will not be just xxunk down in the bed or in the xxunk playing video games or watching a movie because over time that will get boring for you and it will xxunk your healthy so that 's why its good to do community service even ones a week or in a xxunk its not bad to do community service i do community service all xxmaj xxunk and sometimes over the xxunk it is so fun to do community service because i spend some times with my friends with out going to the xxunk or anything like that so it will be good for other student to do some community services so they can see that it is</td>\n      <td>2</td>\n    </tr>\n    <tr>\n      <th>2</th>\n      <td>xxbos xxmaj overall , i think that having a rule that makes all students participate in an extracurricular activity is a good idea because it keeps students active and participating in something , it allows you to socialize with ones you do n't know and ones you do , it also gives you more options for a xxunk , maybe you could find something that you are interested in to study later in life , it can give you a chance to find something new that you did n't know you xxunk before , and finally , it xxunk important skills that will help you throughout your entire life .</td>\n      <td>4</td>\n    </tr>\n  </tbody>\n</table>"
     },
     "metadata": {}
    }
   ]
  },
  {
   "cell_type": "code",
   "source": "torch.save(dls_clas, out / 'dls_clas.pkl')\n# dls_clas = torch.load(out / 'dls_clas.pkl')",
   "metadata": {
    "id": "JpVqkSfjj9xL",
    "execution": {
     "iopub.status.busy": "2021-12-27T17:28:47.638160Z",
     "iopub.execute_input": "2021-12-27T17:28:47.638415Z",
     "iopub.status.idle": "2021-12-27T17:28:57.960235Z",
     "shell.execute_reply.started": "2021-12-27T17:28:47.638379Z",
     "shell.execute_reply": "2021-12-27T17:28:57.959344Z"
    },
    "trusted": true
   },
   "execution_count": 18,
   "outputs": []
  },
  {
   "cell_type": "markdown",
   "source": "Then we can define our text classifier like before:\n\nDefing metrics: we use [accuracy](https://docs.fast.ai/metrics.html#accuracy) and [F1Score](https://docs.fast.ai/metrics.html#F1Score)",
   "metadata": {
    "id": "DoUNI-6u6zps"
   }
  },
  {
   "cell_type": "code",
   "source": "metrics=[accuracy,F1Score(average='micro')]\nlearn = text_classifier_learner(dls_clas, AWD_LSTM, drop_mult=0.5, metrics=metrics, model_dir=\"/tmp/model/\")",
   "metadata": {
    "id": "ua2CDIxVnN2N",
    "execution": {
     "iopub.status.busy": "2021-12-27T17:28:57.961586Z",
     "iopub.execute_input": "2021-12-27T17:28:57.961867Z",
     "iopub.status.idle": "2021-12-27T17:28:58.381094Z",
     "shell.execute_reply.started": "2021-12-27T17:28:57.961828Z",
     "shell.execute_reply": "2021-12-27T17:28:58.380348Z"
    },
    "trusted": true
   },
   "execution_count": 19,
   "outputs": []
  },
  {
   "cell_type": "markdown",
   "source": "As said before we load our encoder that we saved so that we use the exact same vocabulary as when we were fine-tuning our language model.",
   "metadata": {
    "id": "_ELzdB_97zUz"
   }
  },
  {
   "cell_type": "code",
   "source": "learn = learn.load_encoder(out / 'finetuned')",
   "metadata": {
    "id": "w1HcuM7CoJUD",
    "execution": {
     "iopub.status.busy": "2021-12-27T17:28:58.382304Z",
     "iopub.execute_input": "2021-12-27T17:28:58.382847Z",
     "iopub.status.idle": "2021-12-27T17:28:58.445151Z",
     "shell.execute_reply.started": "2021-12-27T17:28:58.382807Z",
     "shell.execute_reply": "2021-12-27T17:28:58.444428Z"
    },
    "trusted": true
   },
   "execution_count": 20,
   "outputs": []
  },
  {
   "cell_type": "code",
   "source": "learn.lr_find()",
   "metadata": {
    "executionInfo": {
     "elapsed": 21320,
     "status": "ok",
     "timestamp": 1640101863746,
     "user": {
      "displayName": "Ali Farid",
      "photoUrl": "https://lh3.googleusercontent.com/a-/AOh14Gg3Z6YV0-2TkYch5LSCn-o-LLgml064QtEiE1mr=s64",
      "userId": "12633910519416978942"
     },
     "user_tz": -210
    },
    "id": "f31VJCr7oNXJ",
    "outputId": "a7696246-cf7d-4453-de8a-13aba45ae876",
    "execution": {
     "iopub.status.busy": "2021-12-27T17:28:58.446571Z",
     "iopub.execute_input": "2021-12-27T17:28:58.446829Z",
     "iopub.status.idle": "2021-12-27T17:29:07.265613Z",
     "shell.execute_reply.started": "2021-12-27T17:28:58.446794Z",
     "shell.execute_reply": "2021-12-27T17:29:07.264806Z"
    },
    "trusted": true
   },
   "execution_count": 21,
   "outputs": [
    {
     "output_type": "display_data",
     "data": {
      "text/plain": "<IPython.core.display.HTML object>",
      "text/html": ""
     },
     "metadata": {}
    },
    {
     "execution_count": 21,
     "output_type": "execute_result",
     "data": {
      "text/plain": "SuggestedLRs(valley=0.0020892962347716093)"
     },
     "metadata": {}
    },
    {
     "output_type": "display_data",
     "data": {
      "text/plain": "<Figure size 432x288 with 1 Axes>",
      "image/png": "[encoded data removed]"
     },
     "metadata": {
      "needs_background": "light"
     }
    }
   ]
  },
  {
   "cell_type": "code",
   "source": "lr = 1e-2\nlearn.fit_one_cycle(1, lr)",
   "metadata": {
    "executionInfo": {
     "elapsed": 484682,
     "status": "ok",
     "timestamp": 1640106783853,
     "user": {
      "displayName": "Ali Farid",
      "photoUrl": "https://lh3.googleusercontent.com/a-/AOh14Gg3Z6YV0-2TkYch5LSCn-o-LLgml064QtEiE1mr=s64",
      "userId": "12633910519416978942"
     },
     "user_tz": -210
    },
    "id": "P7ilMQw4pwsj",
    "outputId": "e6f0f856-375d-49cf-d5b0-4c7b1bcc2557",
    "execution": {
     "iopub.status.busy": "2021-12-27T17:29:07.267047Z",
     "iopub.execute_input": "2021-12-27T17:29:07.267710Z",
     "iopub.status.idle": "2021-12-27T17:35:48.616847Z",
     "shell.execute_reply.started": "2021-12-27T17:29:07.267659Z",
     "shell.execute_reply": "2021-12-27T17:35:48.615883Z"
    },
    "trusted": true
   },
   "execution_count": 22,
   "outputs": [
    {
     "output_type": "display_data",
     "data": {
      "text/plain": "<IPython.core.display.HTML object>",
      "text/html": "<table border=\"1\" class=\"dataframe\">\n  <thead>\n    <tr style=\"text-align: left;\">\n      <th>epoch</th>\n      <th>train_loss</th>\n      <th>valid_loss</th>\n      <th>accuracy</th>\n      <th>f1_score</th>\n      <th>time</th>\n    </tr>\n  </thead>\n  <tbody>\n    <tr>\n      <td>0</td>\n      <td>1.347327</td>\n      <td>1.248083</td>\n      <td>0.578035</td>\n      <td>0.578035</td>\n      <td>06:41</td>\n    </tr>\n  </tbody>\n</table>"
     },
     "metadata": {}
    }
   ]
  },
  {
   "cell_type": "markdown",
   "source": "The last step is to train with discriminative learning rates and gradual unfreezing. In computer vision, we often unfreeze the model all at once, but for NLP classifiers, we find that unfreezing a few layers at a time makes a real difference.",
   "metadata": {
    "id": "lcskkI9G9Q1Q"
   }
  },
  {
   "cell_type": "markdown",
   "source": "Here is abit of information about using `slice` in learning rate",
   "metadata": {
    "id": "XjZPUY9q_Hn6"
   }
  },
  {
   "cell_type": "markdown",
   "source": "Applying different lr for different groups is a technique called “discriminative layer training” that is introduced in part 1. This technique is commonly used in both computer vision and natural language processing.\nyou can find some good info by reading this blog post: [The 1cycle policy](https://sgugger.github.io/the-1cycle-policy.html#the-1cycle-policy)",
   "metadata": {
    "id": "KPGNPJTu_Php"
   }
  },
  {
   "cell_type": "markdown",
   "source": "slice() can be passed 1 or 2 arguments only. Below is a snippet of experiments for your reference:\n\n```python\nIn [9]: slice(5)\nOut[9]: slice(None, 5, None)\n\nIn [10]: slice(1, 5)\nOut[10]: slice(1, 5, None)\n```",
   "metadata": {
    "id": "dSgcTvp0AJpG"
   }
  },
  {
   "cell_type": "markdown",
   "source": "Therefore, in your last line, `slice(5e-3/(2.6**4),5e-3)` is equivalent to `slice(start = 5e-3/(2.6**4), stop = 5e-3, step = None)`",
   "metadata": {
    "id": "RJTxC6qKAWb0"
   }
  },
  {
   "cell_type": "code",
   "source": "learn.freeze_to(-2)\nlearn.fit_one_cycle(1, slice(lr/(2.6**4),lr))",
   "metadata": {
    "executionInfo": {
     "elapsed": 481442,
     "status": "ok",
     "timestamp": 1640107265273,
     "user": {
      "displayName": "Ali Farid",
      "photoUrl": "https://lh3.googleusercontent.com/a-/AOh14Gg3Z6YV0-2TkYch5LSCn-o-LLgml064QtEiE1mr=s64",
      "userId": "12633910519416978942"
     },
     "user_tz": -210
    },
    "id": "ClNjjjcF8TAg",
    "outputId": "e328a05d-823b-42a6-fd2b-33940ab7af14",
    "execution": {
     "iopub.status.busy": "2021-12-27T17:35:48.618552Z",
     "iopub.execute_input": "2021-12-27T17:35:48.620128Z",
     "iopub.status.idle": "2021-12-27T17:42:40.811857Z",
     "shell.execute_reply.started": "2021-12-27T17:35:48.620082Z",
     "shell.execute_reply": "2021-12-27T17:42:40.810837Z"
    },
    "trusted": true
   },
   "execution_count": 23,
   "outputs": [
    {
     "output_type": "display_data",
     "data": {
      "text/plain": "<IPython.core.display.HTML object>",
      "text/html": "<table border=\"1\" class=\"dataframe\">\n  <thead>\n    <tr style=\"text-align: left;\">\n      <th>epoch</th>\n      <th>train_loss</th>\n      <th>valid_loss</th>\n      <th>accuracy</th>\n      <th>f1_score</th>\n      <th>time</th>\n    </tr>\n  </thead>\n  <tbody>\n    <tr>\n      <td>0</td>\n      <td>1.192288</td>\n      <td>1.136398</td>\n      <td>0.621922</td>\n      <td>0.621922</td>\n      <td>06:52</td>\n    </tr>\n  </tbody>\n</table>"
     },
     "metadata": {}
    }
   ]
  },
  {
   "cell_type": "code",
   "source": "learn.freeze_to(-3)\nlearn.fit_one_cycle(1, slice(lr/2/(2.6**4),lr/2))",
   "metadata": {
    "executionInfo": {
     "elapsed": 493218,
     "status": "ok",
     "timestamp": 1640107758483,
     "user": {
      "displayName": "Ali Farid",
      "photoUrl": "https://lh3.googleusercontent.com/a-/AOh14Gg3Z6YV0-2TkYch5LSCn-o-LLgml064QtEiE1mr=s64",
      "userId": "12633910519416978942"
     },
     "user_tz": -210
    },
    "id": "3kVmuq1C8TEI",
    "outputId": "06e000a5-258f-41cc-e5f3-154c46ebf4e6",
    "execution": {
     "iopub.status.busy": "2021-12-27T17:42:40.813683Z",
     "iopub.execute_input": "2021-12-27T17:42:40.813980Z",
     "iopub.status.idle": "2021-12-27T17:49:48.091897Z",
     "shell.execute_reply.started": "2021-12-27T17:42:40.813925Z",
     "shell.execute_reply": "2021-12-27T17:49:48.091045Z"
    },
    "trusted": true
   },
   "execution_count": 24,
   "outputs": [
    {
     "output_type": "display_data",
     "data": {
      "text/plain": "<IPython.core.display.HTML object>",
      "text/html": "<table border=\"1\" class=\"dataframe\">\n  <thead>\n    <tr style=\"text-align: left;\">\n      <th>epoch</th>\n      <th>train_loss</th>\n      <th>valid_loss</th>\n      <th>accuracy</th>\n      <th>f1_score</th>\n      <th>time</th>\n    </tr>\n  </thead>\n  <tbody>\n    <tr>\n      <td>0</td>\n      <td>1.114476</td>\n      <td>1.089705</td>\n      <td>0.636906</td>\n      <td>0.636906</td>\n      <td>07:07</td>\n    </tr>\n  </tbody>\n</table>"
     },
     "metadata": {}
    }
   ]
  },
  {
   "cell_type": "code",
   "source": "learn.unfreeze()\nlearn.fit_one_cycle(2, slice(lr/10/(2.6**4),lr/10))",
   "metadata": {
    "executionInfo": {
     "elapsed": 1010755,
     "status": "ok",
     "timestamp": 1640108769703,
     "user": {
      "displayName": "Ali Farid",
      "photoUrl": "https://lh3.googleusercontent.com/a-/AOh14Gg3Z6YV0-2TkYch5LSCn-o-LLgml064QtEiE1mr=s64",
      "userId": "12633910519416978942"
     },
     "user_tz": -210
    },
    "id": "jZT31B0F8THs",
    "outputId": "690e8745-c3a0-48ae-b351-981a082fa923",
    "execution": {
     "iopub.status.busy": "2021-12-27T17:49:48.093732Z",
     "iopub.execute_input": "2021-12-27T17:49:48.094208Z",
     "iopub.status.idle": "2021-12-27T18:04:31.881466Z",
     "shell.execute_reply.started": "2021-12-27T17:49:48.094160Z",
     "shell.execute_reply": "2021-12-27T18:04:31.880635Z"
    },
    "trusted": true
   },
   "execution_count": 25,
   "outputs": [
    {
     "output_type": "display_data",
     "data": {
      "text/plain": "<IPython.core.display.HTML object>",
      "text/html": "<table border=\"1\" class=\"dataframe\">\n  <thead>\n    <tr style=\"text-align: left;\">\n      <th>epoch</th>\n      <th>train_loss</th>\n      <th>valid_loss</th>\n      <th>accuracy</th>\n      <th>f1_score</th>\n      <th>time</th>\n    </tr>\n  </thead>\n  <tbody>\n    <tr>\n      <td>0</td>\n      <td>1.085502</td>\n      <td>1.075629</td>\n      <td>0.642163</td>\n      <td>0.642163</td>\n      <td>07:21</td>\n    </tr>\n    <tr>\n      <td>1</td>\n      <td>1.056891</td>\n      <td>1.064569</td>\n      <td>0.645180</td>\n      <td>0.645180</td>\n      <td>07:22</td>\n    </tr>\n  </tbody>\n</table>"
     },
     "metadata": {}
    }
   ]
  },
  {
   "cell_type": "markdown",
   "source": "### Prepare test data",
   "metadata": {}
  },
  {
   "cell_type": "code",
   "source": "def create_df_test():\n    test_ids = [f[:-4] for f in os.listdir(test_text_dir)]\n    test_data = []\n    for test_id in test_ids:\n        text = get_text(test_text_dir, test_id)\n        sentences = nltk.sent_tokenize(text)\n        id_sentences = []\n        idx = 0 \n        for sentence in sentences:\n            id_sentence = []\n            words = sentence.split()\n            # I created this heuristic for mapping words in senteces to \"word indexes\"\n            # This is not definitive and might have strong drawbacks and problems\n            for w in words:\n                id_sentence.append(idx)\n                idx+=1\n            id_sentences.append(id_sentence)\n        test_data += list(zip([test_id] * len(sentences), sentences, id_sentences))\n    df_test = pd.DataFrame(test_data, columns=['id', 'text', 'ids'])\n    return df_test",
   "metadata": {
    "execution": {
     "iopub.status.busy": "2021-12-27T18:04:31.883274Z",
     "iopub.execute_input": "2021-12-27T18:04:31.883571Z",
     "iopub.status.idle": "2021-12-27T18:04:31.891318Z",
     "shell.execute_reply.started": "2021-12-27T18:04:31.883529Z",
     "shell.execute_reply": "2021-12-27T18:04:31.890340Z"
    },
    "trusted": true
   },
   "execution_count": 26,
   "outputs": []
  },
  {
   "cell_type": "code",
   "source": "df_test = create_df_test()\ndf_test.head()",
   "metadata": {
    "execution": {
     "iopub.status.busy": "2021-12-27T18:04:31.892963Z",
     "iopub.execute_input": "2021-12-27T18:04:31.893226Z",
     "iopub.status.idle": "2021-12-27T18:04:31.933204Z",
     "shell.execute_reply.started": "2021-12-27T18:04:31.893190Z",
     "shell.execute_reply": "2021-12-27T18:04:31.932573Z"
    },
    "trusted": true
   },
   "execution_count": 27,
   "outputs": [
    {
     "execution_count": 27,
     "output_type": "execute_result",
     "data": {
      "text/plain": "             id  \\\n0  0FB0700DAF44   \n1  0FB0700DAF44   \n2  0FB0700DAF44   \n3  0FB0700DAF44   \n4  0FB0700DAF44   \n\n                                                                                                                                                         text  \\\n0                                                             During a group project, have you ever asked a group member about adding or replacing something?   \n1                      Or, when you were studying for a math test, did you ever ask your parents or sibling about different ways to tackle a certain problem?   \n2          Asking for other's opinions is especially beneficial as it allows for an individual to receive a variety of different views towards a given topic.   \n3                              Likewise, being diverse and asking many people for their opinions allows one to understand how most people percieve something.   \n4  This is especially important as knowing multiple opinions can allow someone to take those views into account and sway themseleves to the general audience.   \n\n                                                                                                        ids  \n0                                                    [0, 1, 2, 3, 4, 5, 6, 7, 8, 9, 10, 11, 12, 13, 14, 15]  \n1      [16, 17, 18, 19, 20, 21, 22, 23, 24, 25, 26, 27, 28, 29, 30, 31, 32, 33, 34, 35, 36, 37, 38, 39, 40]  \n2          [41, 42, 43, 44, 45, 46, 47, 48, 49, 50, 51, 52, 53, 54, 55, 56, 57, 58, 59, 60, 61, 62, 63, 64]  \n3                              [65, 66, 67, 68, 69, 70, 71, 72, 73, 74, 75, 76, 77, 78, 79, 80, 81, 82, 83]  \n4  [84, 85, 86, 87, 88, 89, 90, 91, 92, 93, 94, 95, 96, 97, 98, 99, 100, 101, 102, 103, 104, 105, 106, 107]  ",
      "text/html": "<div>\n<style scoped>\n    .dataframe tbody tr th:only-of-type {\n        vertical-align: middle;\n    }\n\n    .dataframe tbody tr th {\n        vertical-align: top;\n    }\n\n    .dataframe thead th {\n        text-align: right;\n    }\n</style>\n<table border=\"1\" class=\"dataframe\">\n  <thead>\n    <tr style=\"text-align: right;\">\n      <th></th>\n      <th>id</th>\n      <th>text</th>\n      <th>ids</th>\n    </tr>\n  </thead>\n  <tbody>\n    <tr>\n      <th>0</th>\n      <td>0FB0700DAF44</td>\n      <td>During a group project, have you ever asked a group member about adding or replacing something?</td>\n      <td>[0, 1, 2, 3, 4, 5, 6, 7, 8, 9, 10, 11, 12, 13, 14, 15]</td>\n    </tr>\n    <tr>\n      <th>1</th>\n      <td>0FB0700DAF44</td>\n      <td>Or, when you were studying for a math test, did you ever ask your parents or sibling about different ways to tackle a certain problem?</td>\n      <td>[16, 17, 18, 19, 20, 21, 22, 23, 24, 25, 26, 27, 28, 29, 30, 31, 32, 33, 34, 35, 36, 37, 38, 39, 40]</td>\n    </tr>\n    <tr>\n      <th>2</th>\n      <td>0FB0700DAF44</td>\n      <td>Asking for other's opinions is especially beneficial as it allows for an individual to receive a variety of different views towards a given topic.</td>\n      <td>[41, 42, 43, 44, 45, 46, 47, 48, 49, 50, 51, 52, 53, 54, 55, 56, 57, 58, 59, 60, 61, 62, 63, 64]</td>\n    </tr>\n    <tr>\n      <th>3</th>\n      <td>0FB0700DAF44</td>\n      <td>Likewise, being diverse and asking many people for their opinions allows one to understand how most people percieve something.</td>\n      <td>[65, 66, 67, 68, 69, 70, 71, 72, 73, 74, 75, 76, 77, 78, 79, 80, 81, 82, 83]</td>\n    </tr>\n    <tr>\n      <th>4</th>\n      <td>0FB0700DAF44</td>\n      <td>This is especially important as knowing multiple opinions can allow someone to take those views into account and sway themseleves to the general audience.</td>\n      <td>[84, 85, 86, 87, 88, 89, 90, 91, 92, 93, 94, 95, 96, 97, 98, 99, 100, 101, 102, 103, 104, 105, 106, 107]</td>\n    </tr>\n  </tbody>\n</table>\n</div>"
     },
     "metadata": {}
    }
   ]
  },
  {
   "cell_type": "markdown",
   "source": "### Make prediction",
   "metadata": {}
  },
  {
   "cell_type": "code",
   "source": "def predict(txt):\n    with learn.no_bar(), learn.no_logging():\n        return int(learn.predict(txt)[0])",
   "metadata": {
    "execution": {
     "iopub.status.busy": "2021-12-27T18:04:31.937175Z",
     "iopub.execute_input": "2021-12-27T18:04:31.937367Z",
     "iopub.status.idle": "2021-12-27T18:04:31.941383Z",
     "shell.execute_reply.started": "2021-12-27T18:04:31.937344Z",
     "shell.execute_reply": "2021-12-27T18:04:31.940691Z"
    },
    "trusted": true
   },
   "execution_count": 28,
   "outputs": []
  },
  {
   "cell_type": "code",
   "source": "df_test['predictions'] = df_test[\"text\"].progress_apply(lambda x: predict(x))\n\ndf_test['class'] = df_test['predictions'].map(ID2CLASS)\ndf_test.head()",
   "metadata": {
    "execution": {
     "iopub.status.busy": "2021-12-27T18:04:31.942744Z",
     "iopub.execute_input": "2021-12-27T18:04:31.943330Z",
     "iopub.status.idle": "2021-12-27T18:04:42.323412Z",
     "shell.execute_reply.started": "2021-12-27T18:04:31.943293Z",
     "shell.execute_reply": "2021-12-27T18:04:42.322722Z"
    },
    "trusted": true
   },
   "execution_count": 29,
   "outputs": [
    {
     "output_type": "display_data",
     "data": {
      "text/plain": "  0%|          | 0/187 [00:00<?, ?it/s]",
      "application/vnd.jupyter.widget-view+json": {
       "version_major": 2,
       "version_minor": 0,
       "model_id": "7dd0507223bd44beb545a29c8fa819ef"
      }
     },
     "metadata": {}
    },
    {
     "execution_count": 29,
     "output_type": "execute_result",
     "data": {
      "text/plain": "             id  \\\n0  0FB0700DAF44   \n1  0FB0700DAF44   \n2  0FB0700DAF44   \n3  0FB0700DAF44   \n4  0FB0700DAF44   \n\n                                                                                                                                                         text  \\\n0                                                             During a group project, have you ever asked a group member about adding or replacing something?   \n1                      Or, when you were studying for a math test, did you ever ask your parents or sibling about different ways to tackle a certain problem?   \n2          Asking for other's opinions is especially beneficial as it allows for an individual to receive a variety of different views towards a given topic.   \n3                              Likewise, being diverse and asking many people for their opinions allows one to understand how most people percieve something.   \n4  This is especially important as knowing multiple opinions can allow someone to take those views into account and sway themseleves to the general audience.   \n\n                                                                                                        ids  \\\n0                                                    [0, 1, 2, 3, 4, 5, 6, 7, 8, 9, 10, 11, 12, 13, 14, 15]   \n1      [16, 17, 18, 19, 20, 21, 22, 23, 24, 25, 26, 27, 28, 29, 30, 31, 32, 33, 34, 35, 36, 37, 38, 39, 40]   \n2          [41, 42, 43, 44, 45, 46, 47, 48, 49, 50, 51, 52, 53, 54, 55, 56, 57, 58, 59, 60, 61, 62, 63, 64]   \n3                              [65, 66, 67, 68, 69, 70, 71, 72, 73, 74, 75, 76, 77, 78, 79, 80, 81, 82, 83]   \n4  [84, 85, 86, 87, 88, 89, 90, 91, 92, 93, 94, 95, 96, 97, 98, 99, 100, 101, 102, 103, 104, 105, 106, 107]   \n\n   predictions     class  \n0            2  Evidence  \n1            2  Evidence  \n2            3     Claim  \n3            2  Evidence  \n4            2  Evidence  ",
      "text/html": "<div>\n<style scoped>\n    .dataframe tbody tr th:only-of-type {\n        vertical-align: middle;\n    }\n\n    .dataframe tbody tr th {\n        vertical-align: top;\n    }\n\n    .dataframe thead th {\n        text-align: right;\n    }\n</style>\n<table border=\"1\" class=\"dataframe\">\n  <thead>\n    <tr style=\"text-align: right;\">\n      <th></th>\n      <th>id</th>\n      <th>text</th>\n      <th>ids</th>\n      <th>predictions</th>\n      <th>class</th>\n    </tr>\n  </thead>\n  <tbody>\n    <tr>\n      <th>0</th>\n      <td>0FB0700DAF44</td>\n      <td>During a group project, have you ever asked a group member about adding or replacing something?</td>\n      <td>[0, 1, 2, 3, 4, 5, 6, 7, 8, 9, 10, 11, 12, 13, 14, 15]</td>\n      <td>2</td>\n      <td>Evidence</td>\n    </tr>\n    <tr>\n      <th>1</th>\n      <td>0FB0700DAF44</td>\n      <td>Or, when you were studying for a math test, did you ever ask your parents or sibling about different ways to tackle a certain problem?</td>\n      <td>[16, 17, 18, 19, 20, 21, 22, 23, 24, 25, 26, 27, 28, 29, 30, 31, 32, 33, 34, 35, 36, 37, 38, 39, 40]</td>\n      <td>2</td>\n      <td>Evidence</td>\n    </tr>\n    <tr>\n      <th>2</th>\n      <td>0FB0700DAF44</td>\n      <td>Asking for other's opinions is especially beneficial as it allows for an individual to receive a variety of different views towards a given topic.</td>\n      <td>[41, 42, 43, 44, 45, 46, 47, 48, 49, 50, 51, 52, 53, 54, 55, 56, 57, 58, 59, 60, 61, 62, 63, 64]</td>\n      <td>3</td>\n      <td>Claim</td>\n    </tr>\n    <tr>\n      <th>3</th>\n      <td>0FB0700DAF44</td>\n      <td>Likewise, being diverse and asking many people for their opinions allows one to understand how most people percieve something.</td>\n      <td>[65, 66, 67, 68, 69, 70, 71, 72, 73, 74, 75, 76, 77, 78, 79, 80, 81, 82, 83]</td>\n      <td>2</td>\n      <td>Evidence</td>\n    </tr>\n    <tr>\n      <th>4</th>\n      <td>0FB0700DAF44</td>\n      <td>This is especially important as knowing multiple opinions can allow someone to take those views into account and sway themseleves to the general audience.</td>\n      <td>[84, 85, 86, 87, 88, 89, 90, 91, 92, 93, 94, 95, 96, 97, 98, 99, 100, 101, 102, 103, 104, 105, 106, 107]</td>\n      <td>2</td>\n      <td>Evidence</td>\n    </tr>\n  </tbody>\n</table>\n</div>"
     },
     "metadata": {}
    }
   ]
  },
  {
   "cell_type": "markdown",
   "source": "Turn the word ids into predictionstring ",
   "metadata": {}
  },
  {
   "cell_type": "code",
   "source": "df_test['predictionstring'] = df_test['ids'].apply(lambda x: ' '.join([str(i) for i in x]))\ndf_test.head()",
   "metadata": {
    "_kg_hide-input": true,
    "execution": {
     "iopub.status.busy": "2021-12-27T18:04:42.324761Z",
     "iopub.execute_input": "2021-12-27T18:04:42.325176Z",
     "iopub.status.idle": "2021-12-27T18:04:42.342030Z",
     "shell.execute_reply.started": "2021-12-27T18:04:42.325136Z",
     "shell.execute_reply": "2021-12-27T18:04:42.341328Z"
    },
    "trusted": true
   },
   "execution_count": 30,
   "outputs": [
    {
     "execution_count": 30,
     "output_type": "execute_result",
     "data": {
      "text/plain": "             id  \\\n0  0FB0700DAF44   \n1  0FB0700DAF44   \n2  0FB0700DAF44   \n3  0FB0700DAF44   \n4  0FB0700DAF44   \n\n                                                                                                                                                         text  \\\n0                                                             During a group project, have you ever asked a group member about adding or replacing something?   \n1                      Or, when you were studying for a math test, did you ever ask your parents or sibling about different ways to tackle a certain problem?   \n2          Asking for other's opinions is especially beneficial as it allows for an individual to receive a variety of different views towards a given topic.   \n3                              Likewise, being diverse and asking many people for their opinions allows one to understand how most people percieve something.   \n4  This is especially important as knowing multiple opinions can allow someone to take those views into account and sway themseleves to the general audience.   \n\n                                                                                                        ids  \\\n0                                                    [0, 1, 2, 3, 4, 5, 6, 7, 8, 9, 10, 11, 12, 13, 14, 15]   \n1      [16, 17, 18, 19, 20, 21, 22, 23, 24, 25, 26, 27, 28, 29, 30, 31, 32, 33, 34, 35, 36, 37, 38, 39, 40]   \n2          [41, 42, 43, 44, 45, 46, 47, 48, 49, 50, 51, 52, 53, 54, 55, 56, 57, 58, 59, 60, 61, 62, 63, 64]   \n3                              [65, 66, 67, 68, 69, 70, 71, 72, 73, 74, 75, 76, 77, 78, 79, 80, 81, 82, 83]   \n4  [84, 85, 86, 87, 88, 89, 90, 91, 92, 93, 94, 95, 96, 97, 98, 99, 100, 101, 102, 103, 104, 105, 106, 107]   \n\n   predictions     class  \\\n0            2  Evidence   \n1            2  Evidence   \n2            3     Claim   \n3            2  Evidence   \n4            2  Evidence   \n\n                                                                  predictionstring  \n0                                            0 1 2 3 4 5 6 7 8 9 10 11 12 13 14 15  \n1       16 17 18 19 20 21 22 23 24 25 26 27 28 29 30 31 32 33 34 35 36 37 38 39 40  \n2          41 42 43 44 45 46 47 48 49 50 51 52 53 54 55 56 57 58 59 60 61 62 63 64  \n3                         65 66 67 68 69 70 71 72 73 74 75 76 77 78 79 80 81 82 83  \n4  84 85 86 87 88 89 90 91 92 93 94 95 96 97 98 99 100 101 102 103 104 105 106 107  ",
      "text/html": "<div>\n<style scoped>\n    .dataframe tbody tr th:only-of-type {\n        vertical-align: middle;\n    }\n\n    .dataframe tbody tr th {\n        vertical-align: top;\n    }\n\n    .dataframe thead th {\n        text-align: right;\n    }\n</style>\n<table border=\"1\" class=\"dataframe\">\n  <thead>\n    <tr style=\"text-align: right;\">\n      <th></th>\n      <th>id</th>\n      <th>text</th>\n      <th>ids</th>\n      <th>predictions</th>\n      <th>class</th>\n      <th>predictionstring</th>\n    </tr>\n  </thead>\n  <tbody>\n    <tr>\n      <th>0</th>\n      <td>0FB0700DAF44</td>\n      <td>During a group project, have you ever asked a group member about adding or replacing something?</td>\n      <td>[0, 1, 2, 3, 4, 5, 6, 7, 8, 9, 10, 11, 12, 13, 14, 15]</td>\n      <td>2</td>\n      <td>Evidence</td>\n      <td>0 1 2 3 4 5 6 7 8 9 10 11 12 13 14 15</td>\n    </tr>\n    <tr>\n      <th>1</th>\n      <td>0FB0700DAF44</td>\n      <td>Or, when you were studying for a math test, did you ever ask your parents or sibling about different ways to tackle a certain problem?</td>\n      <td>[16, 17, 18, 19, 20, 21, 22, 23, 24, 25, 26, 27, 28, 29, 30, 31, 32, 33, 34, 35, 36, 37, 38, 39, 40]</td>\n      <td>2</td>\n      <td>Evidence</td>\n      <td>16 17 18 19 20 21 22 23 24 25 26 27 28 29 30 31 32 33 34 35 36 37 38 39 40</td>\n    </tr>\n    <tr>\n      <th>2</th>\n      <td>0FB0700DAF44</td>\n      <td>Asking for other's opinions is especially beneficial as it allows for an individual to receive a variety of different views towards a given topic.</td>\n      <td>[41, 42, 43, 44, 45, 46, 47, 48, 49, 50, 51, 52, 53, 54, 55, 56, 57, 58, 59, 60, 61, 62, 63, 64]</td>\n      <td>3</td>\n      <td>Claim</td>\n      <td>41 42 43 44 45 46 47 48 49 50 51 52 53 54 55 56 57 58 59 60 61 62 63 64</td>\n    </tr>\n    <tr>\n      <th>3</th>\n      <td>0FB0700DAF44</td>\n      <td>Likewise, being diverse and asking many people for their opinions allows one to understand how most people percieve something.</td>\n      <td>[65, 66, 67, 68, 69, 70, 71, 72, 73, 74, 75, 76, 77, 78, 79, 80, 81, 82, 83]</td>\n      <td>2</td>\n      <td>Evidence</td>\n      <td>65 66 67 68 69 70 71 72 73 74 75 76 77 78 79 80 81 82 83</td>\n    </tr>\n    <tr>\n      <th>4</th>\n      <td>0FB0700DAF44</td>\n      <td>This is especially important as knowing multiple opinions can allow someone to take those views into account and sway themseleves to the general audience.</td>\n      <td>[84, 85, 86, 87, 88, 89, 90, 91, 92, 93, 94, 95, 96, 97, 98, 99, 100, 101, 102, 103, 104, 105, 106, 107]</td>\n      <td>2</td>\n      <td>Evidence</td>\n      <td>84 85 86 87 88 89 90 91 92 93 94 95 96 97 98 99 100 101 102 103 104 105 106 107</td>\n    </tr>\n  </tbody>\n</table>\n</div>"
     },
     "metadata": {}
    }
   ]
  },
  {
   "cell_type": "markdown",
   "source": "Drop the sentences with label \"No class\" ",
   "metadata": {}
  },
  {
   "cell_type": "code",
   "source": "df_test = df_test[df_test['class'] != 'No Class']\ndf_test.head()",
   "metadata": {
    "execution": {
     "iopub.status.busy": "2021-12-27T18:04:42.343267Z",
     "iopub.execute_input": "2021-12-27T18:04:42.343656Z",
     "iopub.status.idle": "2021-12-27T18:04:42.363591Z",
     "shell.execute_reply.started": "2021-12-27T18:04:42.343615Z",
     "shell.execute_reply": "2021-12-27T18:04:42.362800Z"
    },
    "trusted": true
   },
   "execution_count": 31,
   "outputs": [
    {
     "execution_count": 31,
     "output_type": "execute_result",
     "data": {
      "text/plain": "             id  \\\n0  0FB0700DAF44   \n1  0FB0700DAF44   \n2  0FB0700DAF44   \n3  0FB0700DAF44   \n4  0FB0700DAF44   \n\n                                                                                                                                                         text  \\\n0                                                             During a group project, have you ever asked a group member about adding or replacing something?   \n1                      Or, when you were studying for a math test, did you ever ask your parents or sibling about different ways to tackle a certain problem?   \n2          Asking for other's opinions is especially beneficial as it allows for an individual to receive a variety of different views towards a given topic.   \n3                              Likewise, being diverse and asking many people for their opinions allows one to understand how most people percieve something.   \n4  This is especially important as knowing multiple opinions can allow someone to take those views into account and sway themseleves to the general audience.   \n\n                                                                                                        ids  \\\n0                                                    [0, 1, 2, 3, 4, 5, 6, 7, 8, 9, 10, 11, 12, 13, 14, 15]   \n1      [16, 17, 18, 19, 20, 21, 22, 23, 24, 25, 26, 27, 28, 29, 30, 31, 32, 33, 34, 35, 36, 37, 38, 39, 40]   \n2          [41, 42, 43, 44, 45, 46, 47, 48, 49, 50, 51, 52, 53, 54, 55, 56, 57, 58, 59, 60, 61, 62, 63, 64]   \n3                              [65, 66, 67, 68, 69, 70, 71, 72, 73, 74, 75, 76, 77, 78, 79, 80, 81, 82, 83]   \n4  [84, 85, 86, 87, 88, 89, 90, 91, 92, 93, 94, 95, 96, 97, 98, 99, 100, 101, 102, 103, 104, 105, 106, 107]   \n\n   predictions     class  \\\n0            2  Evidence   \n1            2  Evidence   \n2            3     Claim   \n3            2  Evidence   \n4            2  Evidence   \n\n                                                                  predictionstring  \n0                                            0 1 2 3 4 5 6 7 8 9 10 11 12 13 14 15  \n1       16 17 18 19 20 21 22 23 24 25 26 27 28 29 30 31 32 33 34 35 36 37 38 39 40  \n2          41 42 43 44 45 46 47 48 49 50 51 52 53 54 55 56 57 58 59 60 61 62 63 64  \n3                         65 66 67 68 69 70 71 72 73 74 75 76 77 78 79 80 81 82 83  \n4  84 85 86 87 88 89 90 91 92 93 94 95 96 97 98 99 100 101 102 103 104 105 106 107  ",
      "text/html": "<div>\n<style scoped>\n    .dataframe tbody tr th:only-of-type {\n        vertical-align: middle;\n    }\n\n    .dataframe tbody tr th {\n        vertical-align: top;\n    }\n\n    .dataframe thead th {\n        text-align: right;\n    }\n</style>\n<table border=\"1\" class=\"dataframe\">\n  <thead>\n    <tr style=\"text-align: right;\">\n      <th></th>\n      <th>id</th>\n      <th>text</th>\n      <th>ids</th>\n      <th>predictions</th>\n      <th>class</th>\n      <th>predictionstring</th>\n    </tr>\n  </thead>\n  <tbody>\n    <tr>\n      <th>0</th>\n      <td>0FB0700DAF44</td>\n      <td>During a group project, have you ever asked a group member about adding or replacing something?</td>\n      <td>[0, 1, 2, 3, 4, 5, 6, 7, 8, 9, 10, 11, 12, 13, 14, 15]</td>\n      <td>2</td>\n      <td>Evidence</td>\n      <td>0 1 2 3 4 5 6 7 8 9 10 11 12 13 14 15</td>\n    </tr>\n    <tr>\n      <th>1</th>\n      <td>0FB0700DAF44</td>\n      <td>Or, when you were studying for a math test, did you ever ask your parents or sibling about different ways to tackle a certain problem?</td>\n      <td>[16, 17, 18, 19, 20, 21, 22, 23, 24, 25, 26, 27, 28, 29, 30, 31, 32, 33, 34, 35, 36, 37, 38, 39, 40]</td>\n      <td>2</td>\n      <td>Evidence</td>\n      <td>16 17 18 19 20 21 22 23 24 25 26 27 28 29 30 31 32 33 34 35 36 37 38 39 40</td>\n    </tr>\n    <tr>\n      <th>2</th>\n      <td>0FB0700DAF44</td>\n      <td>Asking for other's opinions is especially beneficial as it allows for an individual to receive a variety of different views towards a given topic.</td>\n      <td>[41, 42, 43, 44, 45, 46, 47, 48, 49, 50, 51, 52, 53, 54, 55, 56, 57, 58, 59, 60, 61, 62, 63, 64]</td>\n      <td>3</td>\n      <td>Claim</td>\n      <td>41 42 43 44 45 46 47 48 49 50 51 52 53 54 55 56 57 58 59 60 61 62 63 64</td>\n    </tr>\n    <tr>\n      <th>3</th>\n      <td>0FB0700DAF44</td>\n      <td>Likewise, being diverse and asking many people for their opinions allows one to understand how most people percieve something.</td>\n      <td>[65, 66, 67, 68, 69, 70, 71, 72, 73, 74, 75, 76, 77, 78, 79, 80, 81, 82, 83]</td>\n      <td>2</td>\n      <td>Evidence</td>\n      <td>65 66 67 68 69 70 71 72 73 74 75 76 77 78 79 80 81 82 83</td>\n    </tr>\n    <tr>\n      <th>4</th>\n      <td>0FB0700DAF44</td>\n      <td>This is especially important as knowing multiple opinions can allow someone to take those views into account and sway themseleves to the general audience.</td>\n      <td>[84, 85, 86, 87, 88, 89, 90, 91, 92, 93, 94, 95, 96, 97, 98, 99, 100, 101, 102, 103, 104, 105, 106, 107]</td>\n      <td>2</td>\n      <td>Evidence</td>\n      <td>84 85 86 87 88 89 90 91 92 93 94 95 96 97 98 99 100 101 102 103 104 105 106 107</td>\n    </tr>\n  </tbody>\n</table>\n</div>"
     },
     "metadata": {}
    }
   ]
  },
  {
   "cell_type": "code",
   "source": "# submit\ndf_test[['id', 'class', 'predictionstring']].to_csv(\"submission.csv\", index=False)",
   "metadata": {
    "execution": {
     "iopub.status.busy": "2021-12-27T18:04:42.364922Z",
     "iopub.execute_input": "2021-12-27T18:04:42.365182Z",
     "iopub.status.idle": "2021-12-27T18:04:42.373483Z",
     "shell.execute_reply.started": "2021-12-27T18:04:42.365150Z",
     "shell.execute_reply": "2021-12-27T18:04:42.372716Z"
    },
    "trusted": true
   },
   "execution_count": 32,
   "outputs": []
  },
  {
   "cell_type": "markdown",
   "source": "**Refrences:**\n\n- [Transfer learning in text](https://docs.fast.ai/tutorial.text.html)\n- [Efficient multi-lingual language model fine-tuning](https://nlp.fast.ai/)\n- [Universal Language Model Fine-tuning for Text Classification](https://arxiv.org/abs/1801.06146)",
   "metadata": {
    "id": "e4CyAqvO8Tem"
   }
  }
 ]
}